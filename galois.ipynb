{
 "cells": [
  {
   "cell_type": "code",
   "execution_count": 26,
   "id": "522555d7",
   "metadata": {},
   "outputs": [
    {
     "name": "stdout",
     "output_type": "stream",
     "text": [
      "True\n",
      "Univariate Polynomial Ring in z over Finite Field of size 2 (using GF2X)\n",
      "Finite Field in z of size 2^8\n"
     ]
    }
   ],
   "source": [
    "R.<z>  = PolynomialRing(GF(2))\n",
    "g     = R(1+z+z^3+z^4+z^8)\n",
    "print(g.is_irreducible())\n",
    "K     = FiniteField(2^8, names='z', modulus=g)\n",
    "print(R)\n",
    "print(K)"
   ]
  },
  {
   "cell_type": "code",
   "execution_count": 27,
   "id": "9f70c5d0",
   "metadata": {},
   "outputs": [],
   "source": [
    "modulo = lambda n :  R(z^(n+1)+1)/R(z+1)"
   ]
  },
  {
   "cell_type": "code",
   "execution_count": 66,
   "id": "876e91a7-0ddf-4538-8594-290bef677002",
   "metadata": {
    "scrolled": true
   },
   "outputs": [],
   "source": [
    "m = modulo(256)\n",
    "qq = [q for (q,_) in list(factor(m))]\n",
    "RR = QuotientRing(R,R.ideal(m))"
   ]
  },
  {
   "cell_type": "code",
   "execution_count": 67,
   "id": "eac74e31",
   "metadata": {},
   "outputs": [],
   "source": [
    "basis = crt_basis(qq)"
   ]
  },
  {
   "cell_type": "code",
   "execution_count": 68,
   "id": "2492ef1b",
   "metadata": {},
   "outputs": [],
   "source": [
    "def Mod(f):\n",
    "    f_ = f.lift()\n",
    "    return [f_ % q for q in qq]\n",
    "\n",
    "def CRT(rr,basis):\n",
    "    return RR(sum([r*b for (r,b) in zip(rr,basis)])).lift()\n",
    "\n",
    "def Test():\n",
    "    f = RR.random_element()\n",
    "    return f == CRT(Mod(f),basis)"
   ]
  },
  {
   "cell_type": "code",
   "execution_count": 69,
   "id": "7fa3e330",
   "metadata": {},
   "outputs": [
    {
     "data": {
      "text/plain": [
       "True"
      ]
     },
     "execution_count": 69,
     "metadata": {},
     "output_type": "execute_result"
    }
   ],
   "source": [
    "Test()"
   ]
  },
  {
   "cell_type": "code",
   "execution_count": null,
   "id": "5dfe9751",
   "metadata": {},
   "outputs": [],
   "source": []
  }
 ],
 "metadata": {
  "kernelspec": {
   "display_name": "SageMath 10.1",
   "language": "sage",
   "name": "sagemath"
  },
  "language_info": {
   "codemirror_mode": {
    "name": "ipython",
    "version": 3
   },
   "file_extension": ".py",
   "mimetype": "text/x-python",
   "name": "python",
   "nbconvert_exporter": "python",
   "pygments_lexer": "ipython3",
   "version": "3.11.6"
  }
 },
 "nbformat": 4,
 "nbformat_minor": 5
}
