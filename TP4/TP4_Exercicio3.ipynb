{
 "cells": [
  {
   "cell_type": "markdown",
   "metadata": {},
   "source": [
    "# TP4 - Exercício 3\n",
    "### Autores\n",
    "\n",
    "Afonso Ferreira - pg52669 \\\n",
    "Tiago Rodrigues - pg52705\n",
    "\n",
    "### Enunciado \n",
    "\n",
    "Construir tabelas de comparações das suas implementações, para os vários níveis de segurança  NIST e em termos dos seguintes parâmetros\n",
    "- Tempos: geração das chaves, produção da assinatura e verificação da assinatura.\n",
    "- Tamanhos: da chave pública, da chave privada e da assinatura."
   ]
  },
  {
   "cell_type": "code",
   "execution_count": 1,
   "metadata": {},
   "outputs": [
    {
     "name": "stdout",
     "output_type": "stream",
     "text": [
      "Requirement already satisfied: pandas in /Users/afonsoni/miniconda3/envs/EC/lib/python3.11/site-packages (2.2.2)\n",
      "Requirement already satisfied: numpy>=1.23.2 in /Users/afonsoni/miniconda3/envs/EC/lib/python3.11/site-packages (from pandas) (1.26.4)\n",
      "Requirement already satisfied: python-dateutil>=2.8.2 in /Users/afonsoni/miniconda3/envs/EC/lib/python3.11/site-packages (from pandas) (2.8.2)\n",
      "Requirement already satisfied: pytz>=2020.1 in /Users/afonsoni/miniconda3/envs/EC/lib/python3.11/site-packages (from pandas) (2024.1)\n",
      "Requirement already satisfied: tzdata>=2022.7 in /Users/afonsoni/miniconda3/envs/EC/lib/python3.11/site-packages (from pandas) (2024.1)\n",
      "Requirement already satisfied: six>=1.5 in /Users/afonsoni/miniconda3/envs/EC/lib/python3.11/site-packages (from python-dateutil>=2.8.2->pandas) (1.16.0)\n",
      "Note: you may need to restart the kernel to use updated packages.\n"
     ]
    }
   ],
   "source": [
    "%pip install pandas\n",
    "import pandas as pd"
   ]
  },
  {
   "cell_type": "markdown",
   "metadata": {},
   "source": [
    "### Tabela de resultados"
   ]
  },
  {
   "cell_type": "code",
   "execution_count": 2,
   "metadata": {},
   "outputs": [
    {
     "data": {
      "text/html": [
       "<div>\n",
       "<style scoped>\n",
       "    .dataframe tbody tr th:only-of-type {\n",
       "        vertical-align: middle;\n",
       "    }\n",
       "\n",
       "    .dataframe tbody tr th {\n",
       "        vertical-align: top;\n",
       "    }\n",
       "\n",
       "    .dataframe thead th {\n",
       "        text-align: right;\n",
       "    }\n",
       "</style>\n",
       "<table border=\"1\" class=\"dataframe\">\n",
       "  <thead>\n",
       "    <tr style=\"text-align: right;\">\n",
       "      <th></th>\n",
       "      <th>DILITHIUM-2</th>\n",
       "      <th>DILITHIUM-3</th>\n",
       "      <th>DILITHIUM-5</th>\n",
       "      <th>SPHINCS+</th>\n",
       "    </tr>\n",
       "  </thead>\n",
       "  <tbody>\n",
       "    <tr>\n",
       "      <th>Tamanho Chave Pública</th>\n",
       "      <td>56 bytes</td>\n",
       "      <td>56 bytes</td>\n",
       "      <td>56 bytes</td>\n",
       "      <td>88 bytes</td>\n",
       "    </tr>\n",
       "    <tr>\n",
       "      <th>Tamanho Chave Privada</th>\n",
       "      <td>72 bytes</td>\n",
       "      <td>72 bytes</td>\n",
       "      <td>72 bytes</td>\n",
       "      <td>72 bytes</td>\n",
       "    </tr>\n",
       "    <tr>\n",
       "      <th>Tamanho de Assinatura</th>\n",
       "      <td>56 bytes</td>\n",
       "      <td>56 bytes</td>\n",
       "      <td>56 bytes</td>\n",
       "      <td>120 bytes</td>\n",
       "    </tr>\n",
       "    <tr>\n",
       "      <th>Tempo de Geração de Chaves</th>\n",
       "      <td>7.437 ms</td>\n",
       "      <td>12.366 ms</td>\n",
       "      <td>26.165 ms</td>\n",
       "      <td>406.602 ms</td>\n",
       "    </tr>\n",
       "    <tr>\n",
       "      <th>Tempo de Produção da Assinatura</th>\n",
       "      <td>30.880 ms</td>\n",
       "      <td>45.001 ms</td>\n",
       "      <td>129.374 ms</td>\n",
       "      <td>1194.553 ms</td>\n",
       "    </tr>\n",
       "    <tr>\n",
       "      <th>Tempo de Verificação de Assinatura</th>\n",
       "      <td>5.865 ms</td>\n",
       "      <td>15.618 ms</td>\n",
       "      <td>19.623 ms</td>\n",
       "      <td>38.300 ms</td>\n",
       "    </tr>\n",
       "  </tbody>\n",
       "</table>\n",
       "</div>"
      ],
      "text/plain": [
       "                                   DILITHIUM-2 DILITHIUM-3 DILITHIUM-5  \\\n",
       "Tamanho Chave Pública                 56 bytes    56 bytes    56 bytes   \n",
       "Tamanho Chave Privada                 72 bytes    72 bytes    72 bytes   \n",
       "Tamanho de Assinatura                 56 bytes    56 bytes    56 bytes   \n",
       "Tempo de Geração de Chaves            7.437 ms   12.366 ms   26.165 ms   \n",
       "Tempo de Produção da Assinatura      30.880 ms   45.001 ms  129.374 ms   \n",
       "Tempo de Verificação de Assinatura    5.865 ms   15.618 ms   19.623 ms   \n",
       "\n",
       "                                       SPHINCS+  \n",
       "Tamanho Chave Pública                  88 bytes  \n",
       "Tamanho Chave Privada                  72 bytes  \n",
       "Tamanho de Assinatura                 120 bytes  \n",
       "Tempo de Geração de Chaves           406.602 ms  \n",
       "Tempo de Produção da Assinatura     1194.553 ms  \n",
       "Tempo de Verificação de Assinatura    38.300 ms  "
      ]
     },
     "execution_count": 2,
     "metadata": {},
     "output_type": "execute_result"
    }
   ],
   "source": [
    "# Define the data for the table\n",
    "data = {\n",
    "    'DILITHIUM-2': ['56 bytes', '72 bytes', '56 bytes', '7.437 ms', '30.880 ms', '5.865 ms'],\n",
    "    'DILITHIUM-3': ['56 bytes', '72 bytes', '56 bytes', '12.366 ms', '45.001 ms', '15.618 ms'],\n",
    "    'DILITHIUM-5': ['56 bytes', '72 bytes', '56 bytes', '26.165 ms', '129.374 ms', '19.623 ms'],\n",
    "    'SPHINCS+': ['88 bytes', '72 bytes', '120 bytes', '406.602 ms', '1194.553 ms', '38.300 ms']\n",
    "}\n",
    "\n",
    "# Define the rows for the table\n",
    "rows = [\n",
    "    'Tamanho Chave Pública',\n",
    "    'Tamanho Chave Privada',\n",
    "    'Tamanho de Assinatura',\n",
    "    'Tempo de Geração de Chaves',\n",
    "    'Tempo de Produção da Assinatura',\n",
    "    'Tempo de Verificação de Assinatura'\n",
    "]\n",
    "\n",
    "# Create the dataframe\n",
    "df = pd.DataFrame(data, index=rows)\n",
    "\n",
    "# Display the dataframe\n",
    "df"
   ]
  }
 ],
 "metadata": {
  "kernelspec": {
   "display_name": "SageMath 10.0",
   "language": "sage",
   "name": "sagemath"
  },
  "language_info": {
   "codemirror_mode": {
    "name": "ipython",
    "version": 3
   },
   "file_extension": ".py",
   "mimetype": "text/x-python",
   "name": "python",
   "nbconvert_exporter": "python",
   "pygments_lexer": "ipython3",
   "version": "3.11.7"
  }
 },
 "nbformat": 4,
 "nbformat_minor": 2
}
