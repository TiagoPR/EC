{
 "cells": [
  {
   "cell_type": "code",
   "execution_count": 21,
   "id": "86d1e4ab",
   "metadata": {},
   "outputs": [],
   "source": [
    "import os\n",
    "from cryptography.hazmat.primitives.ciphers import Cipher, algorithms, modes\n",
    "key    = os.urandom(32)\n",
    "nounce = os.urandom(16)"
   ]
  },
  {
   "cell_type": "code",
   "execution_count": 22,
   "id": "5267edb9",
   "metadata": {},
   "outputs": [],
   "source": [
    "cipher = Cipher(algorithms.ChaCha20(key,nounce), mode=None)\n",
    "encryptor  = cipher.encryptor()\n",
    "plaintext  = os.urandom(64)\n",
    "ciphertext = encryptor.update(plaintext)"
   ]
  },
  {
   "cell_type": "code",
   "execution_count": 24,
   "id": "ad4a044a",
   "metadata": {},
   "outputs": [
    {
     "data": {
      "text/plain": [
       "True"
      ]
     },
     "execution_count": 24,
     "metadata": {},
     "output_type": "execute_result"
    }
   ],
   "source": [
    "decryptor = cipher.decryptor()\n",
    "decryptor.update(ciphertext) == plaintext"
   ]
  },
  {
   "cell_type": "code",
   "execution_count": null,
   "id": "7db85df9",
   "metadata": {},
   "outputs": [],
   "source": []
  }
 ],
 "metadata": {
  "kernelspec": {
   "display_name": "Python 3 (ipykernel)",
   "language": "python",
   "name": "python3"
  },
  "language_info": {
   "codemirror_mode": {
    "name": "ipython",
    "version": 3
   },
   "file_extension": ".py",
   "mimetype": "text/x-python",
   "name": "python",
   "nbconvert_exporter": "python",
   "pygments_lexer": "ipython3",
   "version": "3.11.6"
  }
 },
 "nbformat": 4,
 "nbformat_minor": 5
}
