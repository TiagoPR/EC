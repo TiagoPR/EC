{
 "cells": [
  {
   "cell_type": "markdown",
   "metadata": {},
   "source": [
    "# TP3 - Exercício 1\n",
    "### Autores\n",
    "\n",
    "Afonso Ferreira - pg52669 \\\n",
    "Tiago Rodrigues - pg52705\n",
    "\n",
    "### Enunciado \n",
    "\n",
    "No capítulo 5 dos apontamentos é descrito o chamado Hidden Number Problem. No capítulo 8 dos apontamentos é discutido um artigo de  Nguyen & Shparlinsk , onde se propõem reduções do HNP a problemas difíceis em reticulados. Neste trabalho pretende-se construir, com a ajuda do Sagemath, uma implementação da solução discutida nos apontamentos para resolver o HNP com soluções aproximadas dos problemas em reticulados."
   ]
  },
  {
   "cell_type": "markdown",
   "metadata": {},
   "source": [
    "Criação das variáveis conforme o artigo"
   ]
  },
  {
   "cell_type": "code",
   "execution_count": 1,
   "metadata": {
    "vscode": {
     "languageId": "python"
    }
   },
   "outputs": [],
   "source": [
    "# Hidden Number Problem -> with this we can recover a secret value from a public value\n",
    "\n",
    "# p - A prime number for our field.\n",
    "p = next_prime(2^16) # 65537  p do professor\n",
    "\n",
    "Fp = GF(p) # Fq\n",
    "\n",
    "alpha = Fp.random_element() # s do professor\n",
    "\n",
    "# n - The number of bits in `p`.\n",
    "n = ceil(log(p, 2))\n",
    "\n",
    "# l - The number of significant bits revealed by the oracle.\n",
    "l = ceil(sqrt(n)) + ceil(log(n, 2)) # k do professor\n",
    "\n"
   ]
  },
  {
   "cell_type": "markdown",
   "metadata": {},
   "source": [
    "`MSB` - Função que devolve os bits mais significativos de $x$"
   ]
  },
  {
   "cell_type": "code",
   "execution_count": 2,
   "metadata": {
    "vscode": {
     "languageId": "python"
    }
   },
   "outputs": [],
   "source": [
    "def msb(x):\n",
    "    \"\"\"\n",
    "    Returns the MSB of x based on the global paramters p, l.\n",
    "    \"\"\"\n",
    "    while True:\n",
    "        z = Fp.random_element()\n",
    "        answer = x - z\n",
    "        if Integer(answer) < Integer(p) / 2^(l+1):\n",
    "            break\n",
    "    return z"
   ]
  },
  {
   "cell_type": "markdown",
   "metadata": {},
   "source": [
    "`Create_Oracle` - devolve um par (xi,ui) que corresponde ao oráculo, onde $u_i$ = $msb_x(alpha * t \\mod p)$ e $x_i$ = $t$"
   ]
  },
  {
   "cell_type": "code",
   "execution_count": 3,
   "metadata": {
    "vscode": {
     "languageId": "python"
    }
   },
   "outputs": [],
   "source": [
    "def create_oracle(alpha):\n",
    "    \"\"\"\n",
    "    Returns a randomized MSB oracle using the specified alpha value.\n",
    "    \"\"\"\n",
    "    alpha = alpha\n",
    "    def oracle():\n",
    "        t = Fp.random_element() # xi do professor.\n",
    "        return t, msb((alpha * t) % p) # par (xi,ui) que corresponde ao oraculo.\n",
    "    return oracle"
   ]
  },
  {
   "cell_type": "markdown",
   "metadata": {},
   "source": [
    "### Reticulados\n",
    "\n",
    "`Basis` - Função usada para a criação do reticulado/\"base\". \n",
    "\n",
    "`Closest Vector` - Dado um vetor não reticulado, encontramos um vetor reticulado provavel de relevar o valor de alpha."
   ]
  },
  {
   "cell_type": "code",
   "execution_count": 4,
   "metadata": {
    "vscode": {
     "languageId": "python"
    }
   },
   "outputs": [],
   "source": [
    "# d - Numero de queries ao oracle.\n",
    "d = 2 * ceil(sqrt(n)) # sacado do pdf.\n",
    "\n",
    "\n",
    "def basis(oracle_inputs):\n",
    "    \"\"\"\n",
    "    Returns a basis using the HNP game parameters and inputs to our oracle\n",
    "    \"\"\"\n",
    "    basis_vectors = []\n",
    "    for i in range(d):\n",
    "        p_vector = [0] * (d+1)\n",
    "        p_vector[i] = p\n",
    "        basis_vectors.append(p_vector)\n",
    "    basis_vectors.append(list(oracle_inputs) + [QQ(1)/QQ(p)])\n",
    "    return Matrix(QQ, basis_vectors)\n",
    "\n",
    "def approximate_closest_vector(basis, v):\n",
    "    \"\"\"\n",
    "    Returns an approximate CVP solution using Babai's nearest plane algorithm.\n",
    "    \"\"\"\n",
    "    BL = basis.LLL()\n",
    "    G, _ = BL.gram_schmidt()\n",
    "    _, n = BL.dimensions()\n",
    "    small = vector(ZZ, v)\n",
    "    for i in reversed(range(n)):\n",
    "        c = QQ(small * G[i]) / QQ(G[i] * G[i])\n",
    "        c = c.round()\n",
    "        small -= BL[i] * c\n",
    "    return (v - small).coefficients()"
   ]
  },
  {
   "cell_type": "markdown",
   "metadata": {},
   "source": [
    "### Teste\n",
    "\n",
    "Para este testo temos $p = 65537$, $d = 10$ com esta variável a depender de $p$, mas sendo assim a probabilidade de o algoritmo não fornecer a solução exata é inferior a $prob\\approx 0.11$"
   ]
  },
  {
   "cell_type": "code",
   "execution_count": 5,
   "metadata": {
    "vscode": {
     "languageId": "python"
    }
   },
   "outputs": [
    {
     "name": "stdout",
     "output_type": "stream",
     "text": [
      "This is the original alpha: 7709\n",
      "Solving CVP using lattice with basis:\n",
      "[  65537       0       0       0       0       0       0       0       0       0       0]\n",
      "[      0   65537       0       0       0       0       0       0       0       0       0]\n",
      "[      0       0   65537       0       0       0       0       0       0       0       0]\n",
      "[      0       0       0   65537       0       0       0       0       0       0       0]\n",
      "[      0       0       0       0   65537       0       0       0       0       0       0]\n",
      "[      0       0       0       0       0   65537       0       0       0       0       0]\n",
      "[      0       0       0       0       0       0   65537       0       0       0       0]\n",
      "[      0       0       0       0       0       0       0   65537       0       0       0]\n",
      "[      0       0       0       0       0       0       0       0   65537       0       0]\n",
      "[      0       0       0       0       0       0       0       0       0   65537       0]\n",
      "[   3296   39129   49008   60562   28832   42337    9073   45783   51367   26946 1/65537]\n",
      "\n",
      "Vector of MSB oracle answers:\n",
      "(46035, 44182, 47379, 52400, 29918, 1649, 15749, 24371, 13617, 39932, 0)\n",
      "\n",
      "Closest lattice vector:\n",
      "[46045, 44187, 47404, 52407, 29921, 1673, 15778, 24402, 13649, 39961, 7709/65537]\n",
      "\n",
      "Recovered alpha! Alpha is 7709\n"
     ]
    }
   ],
   "source": [
    "# Hidden alpha scalar\n",
    "alpha = Fp.random_element() \n",
    "print(\"This is the original alpha: %d\" % alpha)\n",
    "\n",
    "# Create a MSB oracle using the secret alpha scalar\n",
    "oracle = create_oracle(alpha)\n",
    "\n",
    "# Using terminology from the paper: inputs = `t` values, answers = `a` values\n",
    "inputs, answers = zip(*[ oracle() for _ in range(d) ])\n",
    "\n",
    "# Build a basis using our oracle inputs\n",
    "lattice = basis(inputs)\n",
    "print(\"Solving CVP using lattice with basis:\\n%s\\n\" % str(lattice))\n",
    "\n",
    "# The non-lattice vector based on the oracle's answers\n",
    "u = vector(ZZ, list(answers) + [0])\n",
    "print(\"Vector of MSB oracle answers:\\n%s\\n\" % str(u))\n",
    "\n",
    "# Solve an approximate CVP to find a vector v which is likely to reveal alpha.\n",
    "v = approximate_closest_vector(lattice, u)\n",
    "print(\"Closest lattice vector:\\n%s\\n\" % str(v))\n",
    "\n",
    "# Confirm the recovered value of alpha matches the expected value of alpha.\n",
    "recovered_alpha = (v[-1] * p) % p\n",
    "assert recovered_alpha == alpha\n",
    "print(\"Recovered alpha! Alpha is %d\" % recovered_alpha)"
   ]
  }
 ],
 "metadata": {
  "kernelspec": {
   "display_name": "SageMath 10.0",
   "language": "sage",
   "name": "sagemath"
  },
  "language_info": {
   "codemirror_mode": {
    "name": "ipython",
    "version": 3
   },
   "file_extension": ".py",
   "mimetype": "text/x-python",
   "name": "sage",
   "nbconvert_exporter": "python",
   "pygments_lexer": "ipython3",
   "version": "3.11.7"
  }
 },
 "nbformat": 4,
 "nbformat_minor": 2
}
