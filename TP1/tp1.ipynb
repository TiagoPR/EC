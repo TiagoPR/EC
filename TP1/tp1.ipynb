{
 "cells": [
  {
   "cell_type": "markdown",
   "id": "00660d9c-24f9-465f-b05a-e79f3635bbb8",
   "metadata": {},
   "source": [
    "# TP1\n",
    "\n",
    "Autores: Afonso FFerreira pg52669, Tiago Rodrigues pg52705"
   ]
  },
  {
   "cell_type": "markdown",
   "metadata": {},
   "source": [
    "### Exercício 1\n",
    "\n",
    "Use a package Cryptography   e  o package ascon para  criar um comunicação privada assíncrona em modo  “Lightweight Cryptography” entre um agente Emitter e um agente Receiver que cubra os seguintes aspectos:\n",
    "\n",
    "- a) Autenticação do criptograma e dos metadados (associated data) usando Ascon em modo de cifra.\n",
    "\n",
    "- b) As chaves de cifra, autenticação  e  os “nounces” são gerados por um gerador pseudo aleatório (PRG)  usando o Ascon em modo XOF. As diferentes chaves para inicialização do PRG são inputs do emissor e do receptor.\n",
    "\n",
    "- c) Para implementar a comunicação cliente-servidor use o package python asyncio"
   ]
  },
  {
   "cell_type": "code",
   "execution_count": 8,
   "id": "57dcc312-002f-40b2-a4fc-676aca3cb91a",
   "metadata": {},
   "outputs": [
    {
     "data": {
      "text/plain": [
       "b'B3\\xdcv\\xfa\\x9a0\\x14\\xad$F\\x1f{\\x134u\\xf2\\x7f\\x9d\\x00\\n\\t\\xef5j\\x9f\\x89JG-^_\\\\\\xf8\\xec\\xbe\\xb0\\x85H\\xac\\xa2\\x05\\xcd\\xc5\\xf502\\xa5\\xcdI\\x9d\\x8e'"
      ]
     },
     "execution_count": 8,
     "metadata": {},
     "output_type": "execute_result"
    }
   ],
   "source": [
    "from ascon import encrypt\n",
    "\n",
    "import os\n",
    "\n",
    "key = os.urandom(16)\n",
    "\n",
    "nonce = os.urandom(16)\n",
    "\n",
    "plaintext = b\"Anacleto manda mensagem a Bernardina\"\n",
    "\n",
    "associateddata = b''\n",
    "\n",
    "\n",
    "criptograma = encrypt(key, nonce, associateddata, plaintext, variant=\"Ascon-128\")\n",
    "criptograma"
   ]
  },
  {
   "cell_type": "code",
   "execution_count": null,
   "metadata": {},
   "outputs": [],
   "source": []
  }
 ],
 "metadata": {
  "kernelspec": {
   "display_name": ".ec",
   "language": "python",
   "name": "python3"
  },
  "language_info": {
   "codemirror_mode": {
    "name": "ipython",
    "version": 3
   },
   "file_extension": ".py",
   "mimetype": "text/x-python",
   "name": "python",
   "nbconvert_exporter": "python",
   "pygments_lexer": "ipython3",
   "version": "3.11.7"
  }
 },
 "nbformat": 4,
 "nbformat_minor": 5
}
