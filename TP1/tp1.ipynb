{
 "cells": [
  {
   "cell_type": "markdown",
   "id": "00660d9c-24f9-465f-b05a-e79f3635bbb8",
   "metadata": {},
   "source": [
    "# TP1\n",
    "\n",
    "Autores: Afonso FFerreira pg52669, Tiago Rodrigues pg52705"
   ]
  },
  {
   "cell_type": "markdown",
   "metadata": {},
   "source": [
    "### Exercício 1\n",
    "\n",
    "Use a package Cryptography   e  o package ascon para  criar um comunicação privada assíncrona em modo  “Lightweight Cryptography” entre um agente Emitter e um agente Receiver que cubra os seguintes aspectos:\n",
    "\n",
    "- a) Autenticação do criptograma e dos metadados (associated data) usando Ascon em modo de cifra.\n",
    "\n",
    "- b) As chaves de cifra, autenticação  e  os “nounces” são gerados por um gerador pseudo aleatório (PRG)  usando o Ascon em modo XOF. As diferentes chaves para inicialização do PRG são inputs do emissor e do receptor.\n",
    "\n",
    "- c) Para implementar a comunicação cliente-servidor use o package python asyncio"
   ]
  },
  {
   "cell_type": "code",
   "execution_count": 16,
   "id": "57dcc312-002f-40b2-a4fc-676aca3cb91a",
   "metadata": {},
   "outputs": [
    {
     "name": "stdout",
     "output_type": "stream",
     "text": [
      "Serving on ('127.0.0.1', 8889)\n",
      "Encrypting...\n",
      "Client has sent: b'J\\xd6)\\xb4V\\x06R\\xbb\\xa4t\\xe6=\\xcc\\xb7\\x84\\x0e\\xea\\xec\\x00\\x04\\xcb\\xc9\\xb4\\x8dX\\x7fF\\x82}6~\\xb8~-\\x03\\xc3\\xf7\\xa1\\xf3\\x86\\xc0+[h_\\xc4\\x0b\\x04b\\x8b\\xe8\\xfa'\n",
      "Server has received b'J\\xd6)\\xb4V\\x06R\\xbb\\xa4t\\xe6=\\xcc\\xb7\\x84\\x0e\\xea\\xec\\x00\\x04\\xcb\\xc9\\xb4\\x8dX\\x7fF\\x82}6~\\xb8~-\\x03\\xc3\\xf7\\xa1\\xf3\\x86\\xc0+[h_\\xc4\\x0b\\x04b\\x8b\\xe8\\xfa' from client ('127.0.0.1', 45258)\n",
      "Decrypting...\n",
      "Server has sent: b'Anacleto manda mensagem a Bernardina'\n",
      "Closing the server connection\n",
      "Client has received: b'J\\xd6)\\xb4V\\x06R\\xbb\\xa4t\\xe6=\\xcc\\xb7\\x84\\x0e\\xea\\xec\\x00\\x04\\xcb\\xc9\\xb4\\x8dX\\x7fF\\x82}6~\\xb8~-\\x03\\xc3\\xf7\\xa1\\xf3\\x86\\xc0+[h_\\xc4\\x0b\\x04b\\x8b\\xe8\\xfa'\n",
      "Closing the client connection\n"
     ]
    }
   ],
   "source": [
    "from ascon import encrypt, decrypt, hash\n",
    "import asyncio\n",
    "import os\n",
    "\n",
    "def emitter(plaintext, key, nonce, associateddata):\n",
    "    cifra = encrypt(key, nonce, associateddata, plaintext, variant=\"Ascon-128\")\n",
    "    #criptograma = cifra[:-16]\n",
    "    #tag = cifra[-16:]\n",
    "    return cifra#, criptograma, tag\n",
    "\n",
    "def receiver(key, nonce, associateddata, cifra):\n",
    "    receivedPlainText = decrypt(key, nonce, associateddata, cifra, variant=\"Ascon-128\")\n",
    "    if receivedPlainText == None: print(\"Verification failed :(\")\n",
    "    return receivedPlainText\n",
    "\n",
    "def pseudoRandomGenerator():\n",
    "    keySeed = os.urandom(16)\n",
    "    key = hash(keySeed, variant=\"Ascon-Xof\", hashlength=16)\n",
    "\n",
    "    nonceSeed = os.urandom(16)\n",
    "    nonce = hash(nonceSeed, variant=\"Ascon-Xof\", hashlength=16)\n",
    "    return key, nonce\n",
    "\n",
    "# Server\n",
    "async def handle_echo(reader, writer):\n",
    "    data = await reader.read(100)\n",
    "    message = data\n",
    "\n",
    "    addr = writer.get_extra_info('peername')\n",
    "\n",
    "    print(f\"Server has received {message} from client {addr}\")\n",
    "\n",
    "    print(\"Decrypting...\")\n",
    "    recebido = receiver(key, nonce, associateddata, message)\n",
    "\n",
    "    print(f\"Server has sent: {recebido}\")\n",
    "    writer.write(data)\n",
    "    await writer.drain()\n",
    "\n",
    "    print(\"Closing the server connection\")\n",
    "    writer.close()\n",
    "    \n",
    "\n",
    "async def main():\n",
    "    server = await asyncio.start_server(\n",
    "        handle_echo, '127.0.0.1', 8889)\n",
    "\n",
    "    addr = server.sockets[0].getsockname()\n",
    "    print(f'Serving on {addr}')\n",
    "\n",
    "# Client\n",
    "async def tcp_echo_client():\n",
    "    await asyncio.sleep(3)\n",
    "    reader, writer = await asyncio.open_connection(\n",
    "        '127.0.0.1', 8889)\n",
    "\n",
    "    print('Encrypting...')\n",
    "    cifra = emitter(plaintext, key, nonce, associateddata)\n",
    "\n",
    "    print(f'Client has sent: {cifra}')\n",
    "    writer.write(cifra)\n",
    "\n",
    "    data = await reader.read(100)\n",
    "    print(f'Client has received: {data}')\n",
    "\n",
    "    print('Closing the client connection')\n",
    "    writer.close()\n",
    "\n",
    "async def run_client_and_server():\n",
    "    await asyncio.gather(tcp_echo_client(), main())\n",
    "\n",
    "\n",
    "plaintext = b\"Anacleto manda mensagem a Bernardina\"\n",
    "key, nonce = pseudoRandomGenerator()\n",
    "associateddata = b\"ASCON\"\n",
    "\n",
    "await run_client_and_server()"
   ]
  },
  {
   "cell_type": "markdown",
   "metadata": {},
   "source": [
    "### Exercício 2\n",
    "\n",
    "\n",
    "Use o “package” Cryptography para\n",
    "- a) Implementar uma AEAD com “Tweakable Block Ciphers” conforme está descrito na última secção do texto +Capítulo 1: Primitivas Criptográficas Básicas.  A cifra por blocos primitiva, usada para gerar a “tweakable block cipher”, é o AES-256 ou o ChaCha20.\n",
    "- b) Use esta cifra para construir um canal privado de informação assíncrona com acordo de chaves feito com “X448 key exchange” e “Ed448 Signing&Verification” para autenticação  dos agentes. Deve incluir uma fase de confirmação da chave acordada."
   ]
  },
  {
   "cell_type": "code",
   "execution_count": 20,
   "metadata": {},
   "outputs": [
    {
     "data": {
      "text/plain": [
       "b'a secret message'"
      ]
     },
     "execution_count": 20,
     "metadata": {},
     "output_type": "execute_result"
    }
   ],
   "source": [
    "import os\n",
    "from cryptography.hazmat.primitives.ciphers.aead import ChaCha20Poly1305\n",
    "\n",
    "data = b\"a secret message\"\n",
    "\n",
    "aad = b\"authenticated but unencrypted data\"\n",
    "\n",
    "key = ChaCha20Poly1305.generate_key()\n",
    "\n",
    "chacha = ChaCha20Poly1305(key)\n",
    "\n",
    "nonce = os.urandom(12)\n",
    "\n",
    "ct = chacha.encrypt(nonce, data, aad)\n",
    "\n",
    "original = chacha.decrypt(nonce, ct, aad)\n",
    "original"
   ]
  },
  {
   "cell_type": "code",
   "execution_count": null,
   "metadata": {},
   "outputs": [],
   "source": []
  }
 ],
 "metadata": {
  "kernelspec": {
   "display_name": ".ec",
   "language": "python",
   "name": "python3"
  },
  "language_info": {
   "codemirror_mode": {
    "name": "ipython",
    "version": 3
   },
   "file_extension": ".py",
   "mimetype": "text/x-python",
   "name": "python",
   "nbconvert_exporter": "python",
   "pygments_lexer": "ipython3",
   "version": "3.11.7"
  }
 },
 "nbformat": 4,
 "nbformat_minor": 5
}
