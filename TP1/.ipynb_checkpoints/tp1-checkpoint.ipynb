{
 "cells": [
  {
   "cell_type": "markdown",
   "id": "00660d9c-24f9-465f-b05a-e79f3635bbb8",
   "metadata": {},
   "source": [
    "# TP1\n",
    "\n",
    "Autores: Afonso FFerreira pg52669, Tiago Rodrigues pg52705"
   ]
  },
  {
   "cell_type": "markdown",
   "metadata": {},
   "source": [
    "### Exercício 1\n",
    "\n",
    "Use a package Cryptography   e  o package ascon para  criar um comunicação privada assíncrona em modo  “Lightweight Cryptography” entre um agente Emitter e um agente Receiver que cubra os seguintes aspectos:\n",
    "\n",
    "- a) Autenticação do criptograma e dos metadados (associated data) usando Ascon em modo de cifra.\n",
    "\n",
    "- b) As chaves de cifra, autenticação  e  os “nounces” são gerados por um gerador pseudo aleatório (PRG)  usando o Ascon em modo XOF. As diferentes chaves para inicialização do PRG são inputs do emissor e do receptor.\n",
    "\n",
    "- c) Para implementar a comunicação cliente-servidor use o package python asyncio"
   ]
  },
  {
   "cell_type": "code",
   "execution_count": 11,
   "id": "57dcc312-002f-40b2-a4fc-676aca3cb91a",
   "metadata": {},
   "outputs": [
    {
     "name": "stderr",
     "output_type": "stream",
     "text": [
      "/home/tiagopr/.ec/lib/python3.11/site-packages/pygments/style.py:96: RuntimeWarning: coroutine 'run_client_and_server' was never awaited\n",
      "  for styledef in obj.styles.get(token, '').split():\n",
      "RuntimeWarning: Enable tracemalloc to get the object allocation traceback\n"
     ]
    },
    {
     "ename": "RuntimeError",
     "evalue": "asyncio.run() cannot be called from a running event loop",
     "output_type": "error",
     "traceback": [
      "\u001b[0;31m---------------------------------------------------------------------------\u001b[0m",
      "\u001b[0;31mRuntimeError\u001b[0m                              Traceback (most recent call last)",
      "\u001b[1;32m/home/tiagopr/Universidade/MEI/EC/TP1/tp1.ipynb Cell 3\u001b[0m line \u001b[0;36m7\n\u001b[1;32m     <a href='vscode-notebook-cell:/home/tiagopr/Universidade/MEI/EC/TP1/tp1.ipynb#W1sZmlsZQ%3D%3D?line=73'>74</a>\u001b[0m key, nonce \u001b[39m=\u001b[39m pseudoRandomGenerator()\n\u001b[1;32m     <a href='vscode-notebook-cell:/home/tiagopr/Universidade/MEI/EC/TP1/tp1.ipynb#W1sZmlsZQ%3D%3D?line=74'>75</a>\u001b[0m associateddata \u001b[39m=\u001b[39m \u001b[39mb\u001b[39m\u001b[39m\"\u001b[39m\u001b[39mASCON\u001b[39m\u001b[39m\"\u001b[39m\n\u001b[0;32m---> <a href='vscode-notebook-cell:/home/tiagopr/Universidade/MEI/EC/TP1/tp1.ipynb#W1sZmlsZQ%3D%3D?line=76'>77</a>\u001b[0m asyncio\u001b[39m.\u001b[39;49mrun(run_client_and_server())\n",
      "File \u001b[0;32m/usr/lib/python3.11/asyncio/runners.py:186\u001b[0m, in \u001b[0;36mrun\u001b[0;34m(main, debug)\u001b[0m\n\u001b[1;32m    161\u001b[0m \u001b[39m\u001b[39m\u001b[39m\"\"\"Execute the coroutine and return the result.\u001b[39;00m\n\u001b[1;32m    162\u001b[0m \n\u001b[1;32m    163\u001b[0m \u001b[39mThis function runs the passed coroutine, taking care of\u001b[39;00m\n\u001b[0;32m   (...)\u001b[0m\n\u001b[1;32m    182\u001b[0m \u001b[39m    asyncio.run(main())\u001b[39;00m\n\u001b[1;32m    183\u001b[0m \u001b[39m\"\"\"\u001b[39;00m\n\u001b[1;32m    184\u001b[0m \u001b[39mif\u001b[39;00m events\u001b[39m.\u001b[39m_get_running_loop() \u001b[39mis\u001b[39;00m \u001b[39mnot\u001b[39;00m \u001b[39mNone\u001b[39;00m:\n\u001b[1;32m    185\u001b[0m     \u001b[39m# fail fast with short traceback\u001b[39;00m\n\u001b[0;32m--> 186\u001b[0m     \u001b[39mraise\u001b[39;00m \u001b[39mRuntimeError\u001b[39;00m(\n\u001b[1;32m    187\u001b[0m         \u001b[39m\"\u001b[39m\u001b[39masyncio.run() cannot be called from a running event loop\u001b[39m\u001b[39m\"\u001b[39m)\n\u001b[1;32m    189\u001b[0m \u001b[39mwith\u001b[39;00m Runner(debug\u001b[39m=\u001b[39mdebug) \u001b[39mas\u001b[39;00m runner:\n\u001b[1;32m    190\u001b[0m     \u001b[39mreturn\u001b[39;00m runner\u001b[39m.\u001b[39mrun(main)\n",
      "\u001b[0;31mRuntimeError\u001b[0m: asyncio.run() cannot be called from a running event loop"
     ]
    }
   ],
   "source": [
    "from ascon import encrypt, decrypt, hash\n",
    "import asyncio\n",
    "import os\n",
    "\n",
    "def emitter(plaintext, key, nonce, associateddata):\n",
    "    cifra = encrypt(key, nonce, associateddata, plaintext, variant=\"Ascon-128\")\n",
    "    #criptograma = cifra[:-16]\n",
    "    #tag = cifra[-16:]\n",
    "    return cifra#, criptograma, tag\n",
    "\n",
    "def receiver(key, nonce, associateddata, cifra):\n",
    "    receivedPlainText = decrypt(key, nonce, associateddata, cifra, variant=\"Ascon-128\")\n",
    "    if receivedPlainText == None: print(\"Verification failed :(\")\n",
    "    return receivedPlainText\n",
    "\n",
    "def pseudoRandomGenerator():\n",
    "    keySeed = os.urandom(16)\n",
    "    key = hash(keySeed, variant=\"Ascon-Xof\", hashlength=16)\n",
    "\n",
    "    nonceSeed = os.urandom(16)\n",
    "    nonce = hash(nonceSeed, variant=\"Ascon-Xof\", hashlength=16)\n",
    "    return key, nonce\n",
    "\n",
    "# Server\n",
    "async def handle_echo(reader, writer):\n",
    "    data = await reader.read(100)\n",
    "    message = data\n",
    "\n",
    "    addr = writer.get_extra_info('peername')\n",
    "\n",
    "    print(f\"Server has received {message} from client {addr}\")\n",
    "\n",
    "    print(\"Decrypting...\")\n",
    "    recebido = receiver(key, nonce, associateddata, message)\n",
    "\n",
    "    print(f\"Server has sent: {recebido}\")\n",
    "    writer.write(data)\n",
    "    await writer.drain()\n",
    "\n",
    "    print(\"Closing the server connection\")\n",
    "    writer.close()\n",
    "    \n",
    "\n",
    "async def main():\n",
    "    server = await asyncio.start_server(\n",
    "        handle_echo, '127.0.0.1', 8889)\n",
    "\n",
    "    addr = server.sockets[0].getsockname()\n",
    "    print(f'Serving on {addr}')\n",
    "\n",
    "# Client\n",
    "async def tcp_echo_client():\n",
    "    await asyncio.sleep(3)\n",
    "    reader, writer = await asyncio.open_connection(\n",
    "        '127.0.0.1', 8889)\n",
    "\n",
    "    print('Encrypting...')\n",
    "    cifra = emitter(plaintext, key, nonce, associateddata)\n",
    "\n",
    "    print(f'Client has sent: {cifra}')\n",
    "    writer.write(cifra)\n",
    "\n",
    "    data = await reader.read(100)\n",
    "    print(f'Client has received: {data}')\n",
    "\n",
    "    print('Closing the client connection')\n",
    "    writer.close()\n",
    "\n",
    "async def run_client_and_server():\n",
    "    await asyncio.gather(tcp_echo_client(), main())\n",
    "\n",
    "\n",
    "plaintext = b\"Anacleto manda mensagem a Bernardina\"\n",
    "key, nonce = pseudoRandomGenerator()\n",
    "associateddata = b\"ASCON\"\n",
    "\n",
    "asyncio.run(run_client_and_server())"
   ]
  },
  {
   "cell_type": "code",
   "execution_count": null,
   "metadata": {},
   "outputs": [],
   "source": []
  }
 ],
 "metadata": {
  "kernelspec": {
   "display_name": ".ec",
   "language": "python",
   "name": "python3"
  },
  "language_info": {
   "codemirror_mode": {
    "name": "ipython",
    "version": 3
   },
   "file_extension": ".py",
   "mimetype": "text/x-python",
   "name": "python",
   "nbconvert_exporter": "python",
   "pygments_lexer": "ipython3",
   "version": "3.11.7"
  }
 },
 "nbformat": 4,
 "nbformat_minor": 5
}
