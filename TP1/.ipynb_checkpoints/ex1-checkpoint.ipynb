{
 "cells": [
  {
   "cell_type": "code",
   "execution_count": null,
   "id": "00660d9c-24f9-465f-b05a-e79f3635bbb8",
   "metadata": {},
   "outputs": [],
   "source": []
  }
 ],
 "metadata": {
  "kernelspec": {
   "display_name": "SageMath 10.2",
   "language": "sage",
   "name": "sagemath"
  },
  "language_info": {
   "name": ""
  }
 },
 "nbformat": 4,
 "nbformat_minor": 5
}
