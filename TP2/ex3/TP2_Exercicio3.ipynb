{
 "cells": [
  {
   "cell_type": "markdown",
   "metadata": {},
   "source": [
    "# TP2 - Exercício 3\n",
    "\n",
    "### Autores\n",
    "\n",
    "Afonso Ferreira - pg52669 \\\n",
    "Tiago Rodrigues - pg52705\n",
    "\n",
    "### Enunciado\n",
    "\n",
    "O algoritmo de Boneh e Franklin (BF) discutido no +Capítulo 5b:  Curvas Elípticas e sua Aritmética é uma tecnica fundamental na chamada “Criptografia Orientada à Identidade”. Seguindo as orientações definidas nesse texto, pretende-se construir usando Sagemath uma classe Python que implemente este criptosistema."
   ]
  },
  {
   "cell_type": "code",
   "execution_count": 1,
   "metadata": {},
   "outputs": [],
   "source": [
    "from sage.all import *\n",
    "from sage.schemes.elliptic_curves import *"
   ]
  },
  {
   "cell_type": "markdown",
   "metadata": {},
   "source": [
    "Começamos por a criação das variáveis necessárias para o problema, conforme visto no RFC5091, como a geração das curvas $E_1 \\;\\equiv\\; E/\\mathbb{F}_p\\,$ e  $\\;E_2\\;\\equiv\\;E/\\mathbb{F}_{p^2}\\,$ com a equação $y^2 = x^3 + 1$"
   ]
  },
  {
   "cell_type": "code",
   "execution_count": 2,
   "metadata": {},
   "outputs": [
    {
     "name": "stdout",
     "output_type": "stream",
     "text": [
      "True\n"
     ]
    }
   ],
   "source": [
    "# Geração dos primos  q, p\n",
    "bq     = 160                # tamanho em bits do primo \"q\". Deve ser entre 160-bit e 512-bit\n",
    "bp     = 512                # tamanho minimo em bits do primo \"p\". Deve ser entre 512-bit e 7680-bit\n",
    "\n",
    "# q - A 160-bit to 512-bit prime that is the order of the cyclic subgroup of interest in E(F_p).\n",
    "q = random_prime(2**bq-1,lbound=2**(bq-1))\n",
    "\n",
    "# tem de se verificar p = 2^t * q * 3 - 1 iterativamente até encontrar um primo\n",
    "t = q*3*2^(bp - bq)\n",
    "while not is_prime(t-1):\n",
    "    t = t << 1\n",
    "\n",
    "p = t - 1\n",
    "\n",
    "Fp = GF(p)          # corpo primo com \"p\" elementos\n",
    "R.<z> = Fp[]        # anel dos polinomios em \"z\" de coeficientes em Fp\n",
    "f = R(z^2 + z + 1)\n",
    "Fp2.<z> = GF(p**2, modulus=f)\n",
    "# extensão de Fp de dimensão 2 cujo módulo é o polinómio \"f\"\n",
    "# o polinómio \"f\"  é irredutivel, tem grau 2 e verifica  z^3 = 1 mod f\n",
    "# se o ponto (x,y) verificar a equação y^2 = x^3 + 1, \n",
    "#      então o ponto (z*x,y) verifica a mesma equação\n",
    "\n",
    "# Função que mapeia Fp2 em Fp\n",
    "def trace(x):       # função linear que mapeia Fp2  em  Fp\n",
    "    return x + x^p\n",
    "\n",
    "# Geração das curvas\n",
    "E1 = EllipticCurve(Fp, [0,1])\n",
    "\n",
    "# a curva supersingular sobre Fp  definida pela equação  y^2 = x^3 + a * x + b\n",
    "E2 = EllipticCurve(Fp2, [0,1])\n",
    "\n",
    "print(E2.is_supersingular())\n",
    "\n",
    "# GrupoG = {n * Gerador | 0 < n < q}  # gerador de ordem \"q\" em E2\n",
    "# Gerador = cofac * P\n",
    "# cofac = (p + 1)//q\n",
    "\n",
    "# ponto arbitrário  de ordem \"q\" em E2\n",
    "P = E2.random_point() # E2.random_point() é um ponto arbitrário em E2\n",
    "cofac = (p + 1)//q # cofactor de E2\n",
    "G = cofac * P # gerador de ordem \"q\" em E2\n",
    "\n",
    "identidade = b\"Antonio Silva <asilva@qualquer.sitio> # 2024/12/31 23:59 # read,write\""
   ]
  },
  {
   "cell_type": "markdown",
   "metadata": {},
   "source": [
    "$$\\mathsf{KeyGen}(\\lambda)$$"
   ]
  },
  {
   "cell_type": "markdown",
   "metadata": {},
   "source": [
    "Gera um segredo administrativo $s$ e uma chave pública administrativa $\\,\\beta\\,$ (beta)"
   ]
  },
  {
   "cell_type": "code",
   "execution_count": 3,
   "metadata": {},
   "outputs": [],
   "source": [
    "# emparelhamento e oraculo DDHP\n",
    "\n",
    "def phi(P):             # a isogenia que mapeia  (x,y)  ->  (z*x,y)\n",
    "    (x,y) = P.xy()\n",
    "    return E2(z*x,y)\n",
    "\n",
    "def TateX(P,Q,l=1):      # o emparelhamento de Tate generalizado\n",
    "    return P.tate_pairing(phi(Q), q, 2)^l\n",
    "\n",
    "def ddhp(P,Q,R):        # o oraculo DDHP  que decide se (P,Q,R) é um triplo de DH\n",
    "    return TateX(P,Q) == TateX(R,G)\n",
    "\n",
    "def Zr(q):\n",
    "    s = ZZ.random_element(0, q-1)  # Generate a random integer in Zq (0...q-1)\n",
    "    return s\n",
    "\n",
    "def g(n):\n",
    "    return int(n) * G # Grupo de torção G de ordem q em E2\n",
    "\n",
    "def KeyGen(q):\n",
    "    # Generate a secret key s\n",
    "    s = Zr(q)  # Generate a random integer in Zq (0...q-1)\n",
    "\n",
    "    # Compute the public key beta\n",
    "    beta = g(s)  # Compute s * G\n",
    "\n",
    "    return s, beta\n"
   ]
  },
  {
   "cell_type": "markdown",
   "metadata": {},
   "source": [
    "$$\\mathsf{KeyExtract}(\\mathit{d})$$"
   ]
  },
  {
   "cell_type": "markdown",
   "metadata": {},
   "source": [
    "Extração da chave privada $\\,\\mathit{key}\\,$ associada à chave pública $\\,\\textit{d}\\,$"
   ]
  },
  {
   "cell_type": "code",
   "execution_count": 4,
   "metadata": {},
   "outputs": [],
   "source": [
    "def h(bytes):\n",
    "    int_val = int.from_bytes(bytes, \"little\")\n",
    "    return int_val\n",
    "\n",
    "def ID(identidade):\n",
    "    return g(h(identidade))\n",
    "\n",
    "def KeyExtract(id):\n",
    "    return s * id\n"
   ]
  },
  {
   "cell_type": "markdown",
   "metadata": {},
   "source": [
    "$$\\mathsf{Encrypt}(\\mathit{d}\\,,\\,x)$$   "
   ]
  },
  {
   "cell_type": "markdown",
   "metadata": {},
   "source": [
    "Recebe a chave pública $\\,\\mathit{d}\\,$ e o “plaintext” $\\;x\\in\\mathbb{Z}$ e devolve o criptograma $\\,criptograma$."
   ]
  },
  {
   "cell_type": "code",
   "execution_count": 5,
   "metadata": {},
   "outputs": [],
   "source": [
    "def Xor(a,b):\n",
    "    int_a = int(a)\n",
    "    int_b = int(b)\n",
    "    return int_a ^^ int_b\n",
    "\n",
    "# função de hash Z -> Zq\n",
    "def H(int):\n",
    "    return int % q\n",
    "\n",
    "# função de conversao Fp2 -> Z\n",
    "def f(x):\n",
    "    return x[0]\n",
    "\n",
    "def input_E(d,x):\n",
    "    v = Zr(q)\n",
    "    a = H(Xor(v,x))\n",
    "    u = TateX(beta, d, a)\n",
    "    return (x,v,a,u)\n",
    "\n",
    "def output_E(x,v,a,u):\n",
    "    alfa = g(a)\n",
    "    v_ = Xor(v,f(u))\n",
    "    x_ = Xor(x,H(v)) # qual a utilidade do H?\n",
    "    return (alfa,v_,x_)\n",
    "\n",
    "def Encrypt(d,x):\n",
    "    (x,v,a,u) = input_E(d,x)\n",
    "    (alfa, v_, x_) = output_E(x,v,a,u)\n",
    "    # build criptograma from alfa, v_, x_\n",
    "    criptograma = (alfa, v_, x_)\n",
    "    return criptograma\n"
   ]
  },
  {
   "cell_type": "markdown",
   "metadata": {},
   "source": [
    "$$\\mathsf{Decrypt}$$"
   ]
  },
  {
   "cell_type": "markdown",
   "metadata": {},
   "source": [
    "Usa a chave privada $\\,\\mathit{key}\\,$, obtida do algoritmo $\\,\\mathsf{Extract}\\,$, e o criptograma $\\;criptograma\\;\\equiv\\;\\langle \\alpha\\,,\\,v'\\,,\\,x'\\rangle$ para recuperar a mensagem original $\\,x\\,$."
   ]
  },
  {
   "cell_type": "code",
   "execution_count": 6,
   "metadata": {},
   "outputs": [],
   "source": [
    "def input_D(key, alfa, v_, x_):\n",
    "    u = TateX(alfa,key,1)\n",
    "    v = Xor(v_, f(u))\n",
    "    x = Xor(x_, H(v))\n",
    "    return (alfa,v,x)\n",
    "\n",
    "def output_D(alfa, v, x):\n",
    "    a = H(Xor(v,x))\n",
    "    if alfa != g(a):\n",
    "        return None\n",
    "    return x\n",
    "\n",
    "def Decrypt(key, criptograma):\n",
    "    (alfa, v_, x_) = criptograma\n",
    "    (alfa,v,x) = input_D(key, alfa, v_, x_)\n",
    "    x = output_D(alfa,v,x)\n",
    "    if x is None:\n",
    "        print(\"Decryption failed\")\n",
    "    return x\n"
   ]
  },
  {
   "cell_type": "markdown",
   "metadata": {},
   "source": [
    "### Teste"
   ]
  },
  {
   "cell_type": "code",
   "execution_count": 7,
   "metadata": {},
   "outputs": [
    {
     "name": "stdout",
     "output_type": "stream",
     "text": [
      "s= 280  beta= (143239244941971125284354758191709416664429734444972398828423426728445404845497071314351883263549798086459225048090432026684451193027841306612883622752728935*z + 2361266473384154606418303519892461897970535771827505443667080675518168295215440854507315096506046993611013381490591272408566696921923286627277019771530878 : 132658850655057863509095542459667874024411276361320910245713636956073999443796700261513041440414929289917334205159606837609359412658337607881147510900432972*z + 109351181324348341876387288859149085695230495821733201468513475086253701068819822626807419547480794562564873856498309429296138988125783456421939522789903482 : 1)\n",
      "d= (38210060352388741044666604300019625979101585463617083359124759879868813647679639917159541682415312508643065774268527318481167770856416919153871240068946646*z + 146098810901662402457589378810411031426056066168063091686151505620461038336328187952491944972935102001053483242715817535136910902835266220918194851334289099 : 145650500509787967646276798412585707155035805919373751802976806927839461628509252054166151924541054765947218534254921956844751849624912645953184415243337957*z + 87712481100863455887124604483430497010256608732098738166229744274081932638434609567262137092023887798182166862543761152674725017790506053470762803989950872 : 1)\n",
      "key= (36672450298903471885004302119431269059306691901178113071971590158214644901375286517232693589604135644840442090656833863952011422883020105627433142326009138*z + 70205519843125796065651871695386238150280158756633043187862575888982981221495497064189821902269983808888240675604100023388257057753737982279984320562772949 : 158605684640565139731017152685220234137477672564280702668371343921428739634676012499825624442028525354701002199012831724786950812008863361054132916964847121*z + 146170203177546166166980108690033207381065043491568607192051003749129259220717885411730490107556838509274780443186317275423688094580518832755141675962499561 : 1)\n",
      "criptograma= ((148054568419739382396973891127027730997134373362462761625403896711195340063225686163251940823280488677536851141332945972044471972165070707853316295574447067*z + 13119274599540980972430505637584391084797828599567211710972733663184671456603321265119692700906894087628403157679828893776781597907267572376532951366984477 : 64712189531393227993300696509334239087008720134241845474322062664224365091469879917323556597147284822865752489200117625597950758931186392071926606041709705*z + 137663524850734850692724159652286397836198032145777822681068105324331635110987216346629003006702016997542792601469232284980637332914499660906523320706918540 : 1), 10175770295279388548078601360754451342995600743589781882030020449718578862077952372790879313440144616869666341874387646478804363034825895319473081081460983, 558682282055185747099024580299133157270462671080)\n",
      "plaintext= 1234\n"
     ]
    }
   ],
   "source": [
    "s, beta = KeyGen(bp)\n",
    "print(\"s=\", s, \" beta=\", beta)\n",
    "\n",
    "d = ID(identidade)\n",
    "print(\"d=\",d)\n",
    "\n",
    "key = KeyExtract(d)\n",
    "print(\"key=\",key)\n",
    "\n",
    "x = 1234\n",
    "criptograma = Encrypt(d, x)\n",
    "print(\"criptograma=\",criptograma)\n",
    "\n",
    "plaintext = Decrypt(key, criptograma)\n",
    "print(\"plaintext=\", plaintext)"
   ]
  }
 ],
 "metadata": {
  "kernelspec": {
   "display_name": "SageMath 10.0",
   "language": "sage",
   "name": "sagemath"
  },
  "language_info": {
   "codemirror_mode": {
    "name": "ipython",
    "version": 3
   },
   "file_extension": ".py",
   "mimetype": "text/x-python",
   "name": "python",
   "nbconvert_exporter": "python",
   "pygments_lexer": "ipython3",
   "version": "3.11.7"
  }
 },
 "nbformat": 4,
 "nbformat_minor": 2
}
