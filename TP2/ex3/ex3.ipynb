{
 "cells": [
  {
   "cell_type": "markdown",
   "metadata": {},
   "source": [
    "# TP2 - Exercício 3\n",
    "\n",
    "### Autores\n",
    "\n",
    "Afonso Ferreira - pg52669 \\\n",
    "Tiago Rodrigues - pg52705\n",
    "\n",
    "### Enunciado\n",
    "\n",
    "O algoritmo de Boneh e Franklin (BF) discutido no +Capítulo 5b:  Curvas Elípticas e sua Aritmética é uma tecnica fundamental na chamada “Criptografia Orientada à Identidade”. Seguindo as orientações definidas nesse texto, pretende-se construir usando Sagemath uma classe Python que implemente este criptosistema."
   ]
  },
  {
   "cell_type": "code",
   "execution_count": null,
   "metadata": {},
   "outputs": [],
   "source": [
    "from sage.all import *\n",
    "from sage.schemes.elliptic_curves import *"
   ]
  },
  {
   "cell_type": "markdown",
   "metadata": {},
   "source": [
    "Começamos por a criação das variáveis necessárias para o problema, conforme visto no RFC5091, como a geração das curvas $E_1 \\;\\equiv\\; E/\\mathbb{F}_p\\,$ e  $\\;E_2\\;\\equiv\\;E/\\mathbb{F}_{p^2}\\,$ com a equação $y^2 = x^3 + 1$"
   ]
  },
  {
   "cell_type": "code",
   "execution_count": null,
   "metadata": {},
   "outputs": [],
   "source": [
    "# Geração dos primos  q, p\n",
    "bq     = 160                # tamanho em bits do primo \"q\". Deve ser entre 160-bit e 512-bit\n",
    "bp     = 512                # tamanho minimo em bits do primo \"p\". Deve ser entre 512-bit e 7680-bit\n",
    "\n",
    "# q - A 160-bit to 512-bit prime that is the order of the cyclic subgroup of interest in E(F_p).\n",
    "q = random_prime(2**bq-1,lbound=2**(bq-1))\n",
    "\n",
    "# tem de se verificar p = 2^t * q * 3 - 1 iterativamente até encontrar um primo\n",
    "t = q*3*2^(bp - bq)\n",
    "while not is_prime(t-1):\n",
    "    t = t << 1\n",
    "\n",
    "p = t - 1\n",
    "\n",
    "Fp = GF(p)          # corpo primo com \"p\" elementos\n",
    "R.<z> = Fp[]        # anel dos polinomios em \"z\" de coeficientes em Fp\n",
    "f = R(z^2 + z + 1)\n",
    "Fp2.<z> = GF(p**2, modulus=f)\n",
    "# extensão de Fp de dimensão 2 cujo módulo é o polinómio \"f\"\n",
    "# o polinómio \"f\"  é irredutivel, tem grau 2 e verifica  z^3 = 1 mod f\n",
    "# se o ponto (x,y) verificar a equação y^2 = x^3 + 1, \n",
    "#      então o ponto (z*x,y) verifica a mesma equação\n",
    "\n",
    "# Função que mapeia Fp2 em Fp\n",
    "def trace(x):       # função linear que mapeia Fp2  em  Fp\n",
    "    return x + x^p\n",
    "\n",
    "# Geração das curvas\n",
    "E1 = EllipticCurve(Fp, [0,1])\n",
    "\n",
    "# a curva supersingular sobre Fp  definida pela equação  y^2 = x^3 + a * x + b\n",
    "E2 = EllipticCurve(Fp2, [0,1])\n",
    "\n",
    "print(E2.is_supersingular())\n",
    "\n",
    "# GrupoG = {n * Gerador | 0 < n < q}  # gerador de ordem \"q\" em E2\n",
    "# Gerador = cofac * P\n",
    "# cofac = (p + 1)//q\n",
    "\n",
    "# ponto arbitrário  de ordem \"q\" em E2\n",
    "P = E2.random_point() # E2.random_point() é um ponto arbitrário em E2\n",
    "cofac = (p + 1)//q # cofactor de E2\n",
    "G = cofac * P # gerador de ordem \"q\" em E2\n",
    "\n",
    "identidade = b\"Antonio Silva <asilva@qualquer.sitio> # 2024/12/31 23:59 # read,write\""
   ]
  },
  {
   "cell_type": "markdown",
   "metadata": {},
   "source": [
    "$$\\mathsf{KeyGen}(\\lambda)$$"
   ]
  },
  {
   "cell_type": "code",
   "execution_count": 1,
   "metadata": {},
   "outputs": [],
   "source": [
    "# emparelhamento e oraculo DDHP\n",
    "\n",
    "def phi(P):             # a isogenia que mapeia  (x,y)  ->  (z*x,y)\n",
    "    (x,y) = P.xy()\n",
    "    return E2(z*x,y)\n",
    "\n",
    "def TateX(P,Q,l=1):      # o emparelhamento de Tate generalizado\n",
    "    return P.tate_pairing(phi(Q), q, 2)^l\n",
    "\n",
    "def ddhp(P,Q,R):        # o oraculo DDHP  que decide se (P,Q,R) é um triplo de DH\n",
    "    return TateX(P,Q) == TateX(R,G)\n",
    "\n",
    "def Zr(q):\n",
    "    s = ZZ.random_element(0, q-1)  # Generate a random integer in Zq (0...q-1)\n",
    "    return s\n",
    "\n",
    "def g(n):\n",
    "    return int(n) * G # Grupo de torção G de ordem q em E2\n",
    "\n",
    "def KeyGen(q):\n",
    "    # Generate a secret key s\n",
    "    s = Zr(q)  # Generate a random integer in Zq (0...q-1)\n",
    "\n",
    "    # Compute the public key beta\n",
    "    beta = g(s)  # Compute s * G\n",
    "\n",
    "    return s, beta\n"
   ]
  },
  {
   "cell_type": "markdown",
   "metadata": {},
   "source": [
    "$$\\mathsf{KeyExtract}(\\mathit{id})$$"
   ]
  },
  {
   "cell_type": "code",
   "execution_count": null,
   "metadata": {},
   "outputs": [],
   "source": [
    "def h(bytes):\n",
    "    int_val = int.from_bytes(bytes, \"little\")\n",
    "    return int_val\n",
    "\n",
    "def ID(identidade):\n",
    "    return g(h(identidade))\n",
    "\n",
    "def KeyExtract(id):\n",
    "    return s * id\n"
   ]
  },
  {
   "cell_type": "markdown",
   "metadata": {},
   "source": [
    "$$\\mathsf{Encrypt}(\\mathit{id}\\,,\\,x)$$   "
   ]
  },
  {
   "cell_type": "code",
   "execution_count": 2,
   "metadata": {},
   "outputs": [
    {
     "ename": "SyntaxError",
     "evalue": "invalid syntax (3581105993.py, line 4)",
     "output_type": "error",
     "traceback": [
      "\u001b[0;36m  Cell \u001b[0;32mIn[2], line 4\u001b[0;36m\u001b[0m\n\u001b[0;31m    return int_a ^^ int_b\u001b[0m\n\u001b[0m                  ^\u001b[0m\n\u001b[0;31mSyntaxError\u001b[0m\u001b[0;31m:\u001b[0m invalid syntax\n"
     ]
    }
   ],
   "source": [
    "def Xor(a,b):\n",
    "    int_a = int(a)\n",
    "    int_b = int(b)\n",
    "    return int_a ^^ int_b\n",
    "\n",
    "# função de hash Z -> Zq\n",
    "def H(int):\n",
    "    return int % q\n",
    "\n",
    "# função de conversao Fp2 -> Z\n",
    "def f(x):\n",
    "    return x[0]\n",
    "\n",
    "def input_E(d,x):\n",
    "    v = Zr(q)\n",
    "    a = H(Xor(v,x))\n",
    "    u = TateX(beta, d, a)\n",
    "    return (x,v,a,u)\n",
    "\n",
    "def output_E(x,v,a,u):\n",
    "    alfa = g(a)\n",
    "    v_ = Xor(v,f(u))\n",
    "    x_ = Xor(x,H(v)) # qual a utilidade do H?\n",
    "    return (alfa,v_,x_)\n",
    "\n",
    "def Encrypt(d,x):\n",
    "    (x,v,a,u) = input_E(d,x)\n",
    "    (alfa, v_, x_) = output_E(x,v,a,u)\n",
    "    # build criptograma from alfa, v_, x_\n",
    "    criptograma = (alfa, v_, x_)\n",
    "    return criptograma\n"
   ]
  },
  {
   "cell_type": "markdown",
   "metadata": {},
   "source": [
    "$$\\mathsf{Decrypt}$$"
   ]
  },
  {
   "cell_type": "code",
   "execution_count": 3,
   "metadata": {},
   "outputs": [],
   "source": [
    "def input_D(key, alfa, v_, x_):\n",
    "    u = TateX(alfa,key,1)\n",
    "    v = Xor(v_, f(u))\n",
    "    x = Xor(x_, H(v))\n",
    "    return (alfa,v,x)\n",
    "\n",
    "def output_D(alfa, v, x):\n",
    "    a = H(Xor(v,x))\n",
    "    if alfa != g(a):\n",
    "        return None\n",
    "    return x\n",
    "\n",
    "def Decrypt(key, criptograma):\n",
    "    (alfa, v_, x_) = criptograma\n",
    "    (alfa,v,x) = input_D(key, alfa, v_, x_)\n",
    "    x = output_D(alfa,v,x)\n",
    "    if x is None:\n",
    "        print(\"Decryption failed\")\n",
    "    return x\n"
   ]
  },
  {
   "cell_type": "markdown",
   "metadata": {},
   "source": [
    "### Teste"
   ]
  },
  {
   "cell_type": "code",
   "execution_count": 4,
   "metadata": {},
   "outputs": [
    {
     "ename": "NameError",
     "evalue": "name 'bp' is not defined",
     "output_type": "error",
     "traceback": [
      "\u001b[0;31m---------------------------------------------------------------------------\u001b[0m",
      "\u001b[0;31mNameError\u001b[0m                                 Traceback (most recent call last)",
      "\u001b[1;32m/home/tiagopr/Universidade/MEI/CSI/EC/TP2/ex3/ex3.ipynb Cell 14\u001b[0m line \u001b[0;36m1\n\u001b[0;32m----> <a href='vscode-notebook-cell:/home/tiagopr/Universidade/MEI/CSI/EC/TP2/ex3/ex3.ipynb#X35sZmlsZQ%3D%3D?line=0'>1</a>\u001b[0m s, beta \u001b[39m=\u001b[39m KeyGen(bp)\n\u001b[1;32m      <a href='vscode-notebook-cell:/home/tiagopr/Universidade/MEI/CSI/EC/TP2/ex3/ex3.ipynb#X35sZmlsZQ%3D%3D?line=1'>2</a>\u001b[0m \u001b[39mprint\u001b[39m(\u001b[39m\"\u001b[39m\u001b[39ms=\u001b[39m\u001b[39m\"\u001b[39m, s, \u001b[39m\"\u001b[39m\u001b[39m beta=\u001b[39m\u001b[39m\"\u001b[39m, beta)\n\u001b[1;32m      <a href='vscode-notebook-cell:/home/tiagopr/Universidade/MEI/CSI/EC/TP2/ex3/ex3.ipynb#X35sZmlsZQ%3D%3D?line=3'>4</a>\u001b[0m d \u001b[39m=\u001b[39m ID(identidade)\n",
      "\u001b[0;31mNameError\u001b[0m: name 'bp' is not defined"
     ]
    }
   ],
   "source": [
    "s, beta = KeyGen(bp)\n",
    "print(\"s=\", s, \" beta=\", beta)\n",
    "\n",
    "d = ID(identidade)\n",
    "print(\"d=\",d)\n",
    "\n",
    "key = KeyExtract(d)\n",
    "print(\"key=\",key)\n",
    "\n",
    "x = 1234\n",
    "criptograma = Encrypt(d, x)\n",
    "print(\"criptograma=\",criptograma)\n",
    "\n",
    "plaintext = Decrypt(key, criptograma)\n",
    "print(\"plaintext=\", plaintext)"
   ]
  }
 ],
 "metadata": {
  "kernelspec": {
   "display_name": ".ec",
   "language": "python",
   "name": "python3"
  },
  "language_info": {
   "codemirror_mode": {
    "name": "ipython",
    "version": 3
   },
   "file_extension": ".py",
   "mimetype": "text/x-python",
   "name": "python",
   "nbconvert_exporter": "python",
   "pygments_lexer": "ipython3",
   "version": "3.11.7"
  }
 },
 "nbformat": 4,
 "nbformat_minor": 2
}
