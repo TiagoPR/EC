{
 "cells": [
  {
   "cell_type": "markdown",
   "metadata": {},
   "source": [
    "# TP2 - Exercício 1\n",
    "\n",
    "### Autores\n",
    "\n",
    "Afonso Ferreira - pg52669 \\\n",
    "Tiago Rodrigues - pg52705\n",
    "\n",
    "### Enunciado\n",
    "\n",
    "Construir uma classe Python que implemente o  EdDSA a partir do “standard” FIPS186-5\n",
    "1. A implementação deve conter funções para assinar digitalmente e verificar a assinatura.\n",
    "2. A implementação da classe deve usar  uma das “Twisted Edwards Curves” definidas no standard e escolhida  na iniciação da classe: a curva  “edwards25519” ou “edwards448”."
   ]
  },
  {
   "cell_type": "code",
   "execution_count": 14,
   "metadata": {
    "vscode": {
     "languageId": "python"
    }
   },
   "outputs": [],
   "source": [
    "import hashlib, os \n",
    "from pickle import dumps\n",
    "from sage.all import *\n",
    "\n",
    "#Decode a hexadecimal string representation of the integer.\n",
    "def hexi(s): return int.from_bytes(bytes.fromhex(s),byteorder=\"big\")"
   ]
  },
  {
   "cell_type": "markdown",
   "metadata": {},
   "source": [
    "De seguida, começamos por implementar a classe da curva de Edwards"
   ]
  },
  {
   "cell_type": "code",
   "execution_count": 15,
   "metadata": {
    "vscode": {
     "languageId": "python"
    }
   },
   "outputs": [],
   "source": [
    "# Classe que implementa a curva de Edwards\n",
    "class EdwardsCurve(object):\n",
    "    def __init__(self,p, a, d , ed): # se a = 1 entao a curva é de Edwards normal e não \"twisted\"\n",
    "        assert a != d and is_prime(p) and p > 3\n",
    "        K         = GF(p) \n",
    "\n",
    "        self.K = K\n",
    "        self.constants = {'a': a , 'd': d }\n",
    "\n",
    "        self.l = ed['l']\n",
    "\n",
    "    def is_edwards(self, x, y):\n",
    "        a = self.constants['a'] ; d = self.constants['d']\n",
    "        x2 = x**2 ; y2 = y**2\n",
    "        return a*x2 + y2 == 1 + d*x2*y2 # copiar do notebook ax​2​​+y​2​​=1+dx​2​​y​2"
   ]
  },
  {
   "cell_type": "markdown",
   "metadata": {},
   "source": [
    "De seguida passamos à criação da classe dos pontos de Edwards"
   ]
  },
  {
   "cell_type": "code",
   "execution_count": 16,
   "metadata": {
    "vscode": {
     "languageId": "python"
    }
   },
   "outputs": [],
   "source": [
    "# Classe de implementação dos métodos dos pontos de edwards\n",
    "class EdwardsPoint(object):\n",
    "    def __init__(self,pt=None,curve=None,x=None,y=None,w=None):\n",
    "        if pt != None:\n",
    "            self.curve = pt.curve\n",
    "            self.x = pt.x ; self.y = pt.y ; self.w = pt.w\n",
    "        else:\n",
    "            assert isinstance(curve,EdwardsCurve) and curve.is_edwards(x,y)\n",
    "            self.curve = curve\n",
    "            self.x = x ; self.y = y ; self.w = x*y\n",
    "    \n",
    "    def eq(self,other):\n",
    "        return self.x == other.x and self.y == other.y\n",
    "    \n",
    "    def copy(self):\n",
    "        return EdwardsPoint(curve=self.curve, x=self.x, y=self.y)\n",
    "    \n",
    "    def zero(self):\n",
    "        return EdwardsPoint(curve=self.curve,x=0,y=1)\n",
    "    \n",
    "    def sim(self):\n",
    "        return EdwardsPoint(curve=self.curve, x= -self.x, y= self.y)\n",
    "    \n",
    "    def soma(self, other):\n",
    "        a = self.curve.constants['a']; d = self.curve.constants['d']\n",
    "        delta = d*self.w*other.w\n",
    "        self.x, self.y  = (self.x*other.y + self.y*other.x)/(1+delta), (self.y*other.y - a*self.x*other.x)/(1-delta)\n",
    "        self.w = self.x*self.y\n",
    "        \n",
    "    def duplica(self):\n",
    "        a = self.curve.constants['a']; d = self.curve.constants['d']\n",
    "        delta = d*(self.w)**2\n",
    "        self.x, self.y = (2*self.w)/(1+delta) , (self.y**2 - a*self.x**2)/(1 - delta)\n",
    "        self.w = self.x*self.y\n",
    "        \n",
    "    def mult(self, n):\n",
    "        m = Mod(n,self.curve.l).lift().digits(2)   ## obter a representação binária do argumento \"n\"\n",
    "        Q = self.copy() ; A = self.zero()\n",
    "        for b in m:\n",
    "            if b == 1:\n",
    "                A.soma(Q)\n",
    "            Q.duplica()\n",
    "        return A\n",
    "    "
   ]
  },
  {
   "cell_type": "markdown",
   "metadata": {},
   "source": [
    "Temos agora que implementar as classes que implementam o algoritmo em específico, tanto o ed25519 e ed 448\n",
    "\n",
    "No ed25519:"
   ]
  },
  {
   "cell_type": "code",
   "execution_count": 17,
   "metadata": {
    "vscode": {
     "languageId": "python"
    }
   },
   "outputs": [],
   "source": [
    "class Ed25519:\n",
    "    def __init__(self):\n",
    "        p = 2**255-19\n",
    "        K = GF(p)\n",
    "        a = K(-1)\n",
    "        d = -K(121665)/K(121666)\n",
    "        \n",
    "        ed25519 = {\n",
    "        'b'  : 256,     # The coding length\n",
    "        'Px' : K(hexi(\"216936D3CD6E53FEC0A4E231FDD6DC5C692CC76\"+\\\n",
    "        \"09525A7B2C9562D608F25D51A\")),\n",
    "        'Py' : K(hexi(\"666666666666666666666666666666666666666\"+\\\n",
    "        \"6666666666666666666666658\")),\n",
    "        'l'  : ZZ(hexi(\"1000000000000000000000000000000014def9dea2f79cd\" +\n",
    "                    \"65812631a5cf5d3ed\")), ## ordem do subgrupo primo\n",
    "        'n'  : 254,     # The highest set bit\n",
    "        'c'  : 3        # The logarithm of cofactor.\n",
    "        }\n",
    "\n",
    "        Px = ed25519['Px']; Py = ed25519['Py']\n",
    "\n",
    "        E = EdwardsCurve(p,a,d,ed=ed25519)\n",
    "        B = EdwardsPoint(curve=E,x=Px,y=Py)\n",
    "\n",
    "        self.b = ed25519['b']\n",
    "        self.requested_security_strength = 128\n",
    "        self.E = E\n",
    "        self.B = B\n",
    "        self.l = ed25519['l']\n",
    "        self.n = ed25519['n']\n",
    "        self.c = ed25519['c']\n",
    "        self.algorithm = 'ed25519'\n",
    "    \n",
    "    def clamp(self,h):\n",
    "        digest = int.from_bytes(h, 'little')\n",
    "        bits = [int(digit) for digit in list(ZZ(digest).binary())]\n",
    "        x = 512 - len(bits)\n",
    "        while x != 0:\n",
    "            bits = [0] + bits\n",
    "            x = x-1\n",
    "\n",
    "        bits[0] = bits[1] = bits[2] = 0\n",
    "        bits[self.b-2] = 1\n",
    "        bits[self.b-1] = 0\n",
    "\n",
    "        bits = \"\".join(map(str, bits))\n",
    "\n",
    "        s = int(bits[::-1], 2)\n",
    "        return s"
   ]
  },
  {
   "cell_type": "markdown",
   "metadata": {},
   "source": [
    "Ed448:"
   ]
  },
  {
   "cell_type": "code",
   "execution_count": 18,
   "metadata": {
    "vscode": {
     "languageId": "python"
    }
   },
   "outputs": [],
   "source": [
    "class Ed448:\n",
    "    def __init__(self):\n",
    "        p = 2**448 - 2**224 - 1\n",
    "        K = GF(p)\n",
    "        a = K(1)\n",
    "        d = K(-39081)\n",
    "\n",
    "        ed448= {\n",
    "        'b'  : 456,     ## tamanho das assinaturas e das chaves públicas\n",
    "        'Px' : K(hexi(\"4F1970C66BED0DED221D15A622BF36DA9E14657\" +\n",
    "                              \"0470F1767EA6DE324A3D3A46412AE1AF72AB66511433B\" +\n",
    "                              \"80E18B00938E2626A82BC70CC05E\")) ,\n",
    "        'Py' : K(hexi(\"693F46716EB6BC248876203756C9C7624BEA737\" +\n",
    "                              \"36CA3984087789C1E05A0C2D73AD3FF1CE67C39C4FDBD\" +\n",
    "                              \"132C4ED7C8AD9808795BF230FA14\")) ,                                          \n",
    "        'l'  : ZZ(hexi(\"3ffffffffffffffffffffffffffffffffffffffffffffff\" +\n",
    "                    \"fffffffff7cca23e9c44edb49aed63690216cc2728dc58f552378c2\" +\n",
    "                    \"92ab5844f3\")) ,\n",
    "        'n'  : 447,     ## tamanho dos segredos: os dois primeiros bits são 0 e o último é 1.\n",
    "        'c'  : 2        # The logarithm of cofactor.\n",
    "        }\n",
    "\n",
    "        Px = ed448['Px']; Py = ed448['Py']\n",
    "\n",
    "        E = EdwardsCurve(p,a,d, ed=ed448)\n",
    "        B = EdwardsPoint(curve=E,x=Px,y=Py)\n",
    "\n",
    "        self.b = ed448['b']\n",
    "        self.requested_security_strength = 224\n",
    "        self.E = E\n",
    "        self.B = B\n",
    "        self.l = ed448['l']\n",
    "        self.n = ed448['n']\n",
    "        self.c = ed448['c']\n",
    "        self.algorithm = 'ed448'\n",
    "\n",
    "    def clamp(self,h):\n",
    "        digest = int.from_bytes(h, 'little')\n",
    "        bits = [int(digit) for digit in list(ZZ(digest).binary())]\n",
    "        x = 512 - len(bits)\n",
    "        while x != 0:\n",
    "            bits = [0] + bits\n",
    "            x = x-1\n",
    "\n",
    "        bits[0] = bits[1] = 0\n",
    "        bits[self.b-9] = 1\n",
    "        for i in bits[self.b-8:self.b]:\n",
    "            bits[i] = 0\n",
    "\n",
    "        bits = \"\".join(map(str, bits))\n",
    "\n",
    "        s = int(bits[::-1], 2)\n",
    "        return s\n",
    "\n",
    "    # domain separation tag\n",
    "    def dom4(self, f, context): \n",
    "        init_string = []\n",
    "        context_octets = []\n",
    "        \n",
    "        for c in context:\n",
    "            context_octets.append(format(ord(c), \"08b\"))\n",
    "        context_octets = ''.join(context_octets)\n",
    "\n",
    "        for c in \"SigEd448\":\n",
    "            init_string.append(format(ord(c), \"08b\"))\n",
    "        init_string = ''.join(init_string)\n",
    "\n",
    "        bits_int = int(init_string + format(f, \"08b\") + format(len(context_octets), \"08b\") + context_octets, 2)\n",
    "        byte_array = bits_int.to_bytes((bits_int.bit_length() + 7) // 8, 'little')\n",
    "        \n",
    "        return byte_array"
   ]
  },
  {
   "cell_type": "markdown",
   "metadata": {},
   "source": [
    "Classe que implementa as assinatures e os métodos pedidos:"
   ]
  },
  {
   "cell_type": "code",
   "execution_count": 19,
   "metadata": {
    "vscode": {
     "languageId": "python"
    }
   },
   "outputs": [],
   "source": [
    "# Classe que implementa as assinaturas EdDSA\n",
    "class EdDSA:\n",
    "    storage = []\n",
    "    \n",
    "    def __init__(self, ed):\n",
    "        if(ed=='ed25519'):\n",
    "            print('Escolhida a curva Ed25519.')\n",
    "            self.Ed = Ed25519()\n",
    "        else:\n",
    "            print('Escolhida a curva Ed448.')\n",
    "            self.Ed = Ed448()\n",
    "\n",
    "    # hash function for each curve ED2556 and ED448\n",
    "    def hash(self,data):\n",
    "        if self.Ed.algorithm == 'ed25519':\n",
    "            return hashlib.sha512(data).digest()\n",
    "        else:\n",
    "            return hashlib.shake_256(data).digest(912//8)\n",
    "\n",
    "    # private key digest\n",
    "    def digest(self,d):\n",
    "        h = self.hash(d)\n",
    "        buffer = bytearray(h)\n",
    "        return buffer\n",
    "    \n",
    "    # point encoding\n",
    "    def encoding(self,Q, n):\n",
    "        x, y = Q.x, Q.y\n",
    "        self.storage.insert(n,(x,y))\n",
    "        return x\n",
    "    \n",
    "    # point decoding\n",
    "    def decoding(self,n):\n",
    "        Q = self.storage[n]\n",
    "        return Q\n",
    "    \n",
    "    # KeyGen\n",
    "    def keyGen(self):\n",
    "        bytes_length = self.Ed.b//8\n",
    "        # private key\n",
    "        priv = os.urandom(bytes_length)\n",
    "\n",
    "        khash = self.digest(priv)\n",
    "\n",
    "        a = self.Ed.clamp(khash[:bytes_length])\n",
    "        \n",
    "        # public key\n",
    "        T = self.Ed.B.mult(a)\n",
    "\n",
    "        # public key encoding\n",
    "        Q = self.encoding(T,0)\n",
    "        Q = int(Q).to_bytes(bytes_length, 'little')\n",
    "        return priv, Q\n",
    "        \n",
    "    # Sign\n",
    "    def sign(self,M,d,Q,context = ''):\n",
    "        # private key hash\n",
    "        khash = self.digest(d)\n",
    "\n",
    "        if self.Ed.algorithm == 'ed25519':\n",
    "            bytes_length = 32\n",
    "            hashPK = khash[bytes_length:]\n",
    "            hashPK_old = khash[:bytes_length]\n",
    "            r = self.hash(hashPK+M)\n",
    "        else:\n",
    "            bytes_length = 57\n",
    "            hashPK = khash[bytes_length:]\n",
    "            hashPK_old = khash[:bytes_length]\n",
    "            r = self.hash(self.Ed.dom4(0, context)+hashPK+M)\n",
    "        \n",
    "        # r value\n",
    "        r = int.from_bytes(r, 'little')\n",
    "\n",
    "        # calculate R and encoding it\n",
    "        R = self.Ed.B.mult(r)\n",
    "        Rx = self.encoding(R,1)\n",
    "        R = int(Rx).to_bytes(bytes_length, 'little')\n",
    "\n",
    "        # s value\n",
    "        s = self.Ed.clamp(hashPK_old)\n",
    "        \n",
    "        if self.Ed.algorithm == 'ed25519':\n",
    "            # (R || Q || M) hash\n",
    "            hashString = self.hash(R+Q+M)\n",
    "        else:\n",
    "            # (dom4(0,context) || R || Q || M) hash\n",
    "            hashString = self.hash(self.Ed.dom4(0, context)+R+Q+M)\n",
    "\n",
    "        hashString = int.from_bytes(hashString, 'little')\n",
    "\n",
    "        # S = (r + SHA-512(R || Q || M) * s) mod n\n",
    "        S = mod(r + hashString * s,self.Ed.l)\n",
    "        S = int(S).to_bytes(bytes_length, 'little')\n",
    "\n",
    "        signature = R + S\n",
    "        return signature\n",
    "    \n",
    "    # Verify\n",
    "    def verify(self,M,A,Q, context = ''):\n",
    "        bytes_length = self.Ed.b//8\n",
    "\n",
    "        # get R and S from signature A\n",
    "        R = A[:bytes_length]\n",
    "        S = A[bytes_length:]\n",
    "        s = int.from_bytes(S, 'little')\n",
    "\n",
    "        # decoding S, R and Q\n",
    "        if (s >= 0 and s < self.Ed.l):\n",
    "            (Rx, Ry) = self.decoding(1)\n",
    "            (Qx, Qy) = self.decoding(0)\n",
    "            if(Rx != None and Qx != None):\n",
    "                res = True\n",
    "            else: return False\n",
    "        else: return False\n",
    "\n",
    "        # t value\n",
    "        if self.Ed.algorithm == 'ed25519':\n",
    "            digest = self.hash(R+Q+M)\n",
    "        else:\n",
    "            digest = self.hash(self.Ed.dom4(0, context)+R+Q+M)\n",
    "            \n",
    "        t = int.from_bytes(digest, 'little')\n",
    "\n",
    "        # get variables for verifying process\n",
    "        value = 2**3\n",
    "        R = int.from_bytes(R, 'little')\n",
    "        Q = int.from_bytes(Q, 'little')\n",
    "        R = EdwardsPoint(curve=self.Ed.E,x=Rx,y=Ry)\n",
    "        Q = EdwardsPoint(curve=self.Ed.E,x=Qx,y=Qy)\n",
    "\n",
    "        # get verification conditions: [2**c * S]B == [2**c]R + (2**c * t)Q\n",
    "        cond1 = self.Ed.B.mult(value*s)\n",
    "        cond2 = R.mult(value)\n",
    "        cond3 = Q.mult(value*t)\n",
    "        cond2.soma(cond3)\n",
    "\n",
    "        # final verification\n",
    "        return cond1.eq(cond2)"
   ]
  },
  {
   "cell_type": "markdown",
   "metadata": {},
   "source": [
    "## Testes"
   ]
  },
  {
   "cell_type": "code",
   "execution_count": 20,
   "metadata": {
    "vscode": {
     "languageId": "python"
    }
   },
   "outputs": [
    {
     "name": "stdout",
     "output_type": "stream",
     "text": [
      "Escolhida a curva Ed448.\n",
      "Mensagem a ser assinada: Esta mensagem está assinada!\n",
      "\n",
      "SK: \n",
      "b'\\xadM]@\\x19\\xfe\\xd9R\\xd8\\x07\\x1cd\\x10Qk\\xef\\xa5\\xfd\\x10\\x85t\\xdd;D\\xcd\\xcd0B_\\x82\\xa7\\x86\\xd1*\\x9batZ7=9\\x82\\x1c2x\\xad,\\x0eS\\x04\\x0e\\xc3\\xf5\\x9b\\x97\\xfc\\x13'\n",
      "PK: \n",
      "b\"\\xbfx\\x8b\\xb1\\x1ee\\x03\\xcc\\xdeJ\\x18.\\xbd\\xa3'\\x18\\xd1\\xcc\\x12\\xeb\\xcb\\x91\\x9d\\x97\\xc5\\xcf\\x01\\xe6\\x89OW@\\xd7]\\xa3T\\x07!\\xb3\\xcc\\xe5\\xb1/\\x0f\\xc1fL\\xe0\\x02-\\xb1Z\\x07\\xe4\\x16\\xef\\x00\"\n",
      "\n",
      "Assinatura: \n",
      "b'L\\xdb\\x12\\xdf.t\\xec\\x1eE\\x9dp\\xa5t\\xdd&n\\xac\\xe8\\xdf7\\xad\\xacW-\\x9b\\\\s{\\xca\\xc0\\x9a\\xbb\\x8c9\\xe9\\xe4\\xc3\\xda\\x88_\\xca\\xb4\\xf6\\xf5f\\xe6is\\xa3\\xe0\\xa9?\\x11\\x9d\\x8dd\\x00\\x94\\x1f\\'\\x11\"\\x84+ch\\xd7\\x83\\x80\\xd7\\x18QwJ_#\\x95\\xe1\\xe8\\xd6n\\x11\\xbd\\xc6\\xfb]h\\xb4\\xbf\\xe5\\xbeBo\\xc4\\xa8\\x19\\x9bLy\\x131\\xbf\\xdeh\\x98q\\xee\\\\\\xb6{}\\x01\\x14\\x00'\n",
      "\n",
      "Verificação da autenticação da mensagem assinada:\n",
      "Mensagem autenticada!\n",
      "\n",
      "Verificação da autenticação da mensagem não assinada:\n",
      "Mensagem não autenticada...\n"
     ]
    }
   ],
   "source": [
    "edDSA = EdDSA('ed448')\n",
    "signed_message = \"Esta mensagem está assinada!\"\n",
    "unsigned_message = \"Esta mensagem não está assinada...\"\n",
    "print(\"Mensagem a ser assinada: \" + signed_message)\n",
    "privateKey, publicKey = edDSA.keyGen()\n",
    "print(\"\\nSK: \")\n",
    "print(privateKey)\n",
    "print(\"PK: \")\n",
    "print(publicKey)\n",
    "print()\n",
    "assinatura = edDSA.sign(dumps(signed_message), privateKey, publicKey, 'contexto')\n",
    "print(\"Assinatura: \")\n",
    "print(assinatura)\n",
    "print()\n",
    "print(\"Verificação da autenticação da mensagem assinada:\")\n",
    "if edDSA.verify(dumps(signed_message), assinatura, publicKey, 'contexto')==True:\n",
    "    print(\"Mensagem autenticada!\")\n",
    "else:\n",
    "    print(\"Mensagem não autenticada...\")\n",
    "    \n",
    "print()\n",
    "print(\"Verificação da autenticação da mensagem não assinada:\")\n",
    "if edDSA.verify(dumps(unsigned_message), assinatura, publicKey, 'contexto')==True:\n",
    "    print(\"Mensagem autenticada!\")\n",
    "else:\n",
    "    print(\"Mensagem não autenticada...\")"
   ]
  },
  {
   "cell_type": "code",
   "execution_count": 21,
   "metadata": {
    "vscode": {
     "languageId": "python"
    }
   },
   "outputs": [
    {
     "name": "stdout",
     "output_type": "stream",
     "text": [
      "Escolhida a curva Ed25519.\n",
      "Mensagem a ser assinada: Esta mensagem está assinada!\n",
      "\n",
      "SK: \n",
      "b'\\x95\\xc1\\xb5A\\x03\\xaa?\\x97\\x8d\\x90\\xa1\\xde\\x82\\x8a\\xcb\\xc0Z\\x14\\x87\\x97t\\x11\\x9fj\\x15\\xc5h)\\x1eD\\xdf\\x06'\n",
      "PK: \n",
      "b\"'\\x0c\\xf8\\x10\\x04\\xe5(\\xd5\\xbeL\\xe5\\x16LDv\\xff\\x16}Yz\\xc8\\x13\\x8a\\xf8wW\\x86\\x1fd(~;\"\n",
      "\n",
      "Assinatura: \n",
      "b',{\\x95\\x97\\xe5\\x1c\\xf6\\xdf\\x90\\xab\\x0f\\x18\\xa8\\xa8\\xd8,x\\x82\\xff\\x9a\\xfc\\xf0V\\xe9\\xab}!(\\xa8\\xbe\\x8aj\\t*\\xc6\\x1e\\xc4\\xd5\\x07\\xe6\\xa6\\xaa\\xb5\\xbd\\x05\\x0fDp\\xdcE\\xdb\\r\\xb0\\x07\\x10\\x8d\\xf6\\xccN\\x11\\xde]\\xb7\\n'\n",
      "\n",
      "Verificação da autenticação da mensagem assinada:\n",
      "Mensagem autenticada!\n",
      "\n",
      "Verificação da autenticação da mensagem não assinada:\n",
      "Mensagem não autenticada...\n"
     ]
    }
   ],
   "source": [
    "edDSA = EdDSA('ed25519')\n",
    "signed_message = \"Esta mensagem está assinada!\"\n",
    "unsigned_message = \"Esta mensagem não está assinada...\"\n",
    "print(\"Mensagem a ser assinada: \" + signed_message)\n",
    "privateKey, publicKey = edDSA.keyGen()\n",
    "print(\"\\nSK: \")\n",
    "print(privateKey)\n",
    "print(\"PK: \")\n",
    "print(publicKey)\n",
    "print()\n",
    "assinatura = edDSA.sign(dumps(signed_message), privateKey, publicKey)\n",
    "print(\"Assinatura: \")\n",
    "print(assinatura)\n",
    "print()\n",
    "print(\"Verificação da autenticação da mensagem assinada:\")\n",
    "if edDSA.verify(dumps(signed_message), assinatura, publicKey)==True:\n",
    "    print(\"Mensagem autenticada!\")\n",
    "else:\n",
    "    print(\"Mensagem não autenticada...\")\n",
    "    \n",
    "print()\n",
    "print(\"Verificação da autenticação da mensagem não assinada:\")\n",
    "if edDSA.verify(dumps(unsigned_message), assinatura, publicKey)==True:\n",
    "    print(\"Mensagem autenticada!\")\n",
    "else:\n",
    "    print(\"Mensagem não autenticada...\")"
   ]
  },
  {
   "cell_type": "code",
   "execution_count": null,
   "metadata": {
    "vscode": {
     "languageId": "python"
    }
   },
   "outputs": [],
   "source": []
  }
 ],
 "metadata": {
  "kernelspec": {
   "display_name": "SageMath 10.0",
   "language": "sage",
   "name": "sagemath"
  },
  "language_info": {
   "codemirror_mode": {
    "name": "ipython",
    "version": 3
   },
   "file_extension": ".py",
   "mimetype": "text/x-python",
   "name": "sage",
   "nbconvert_exporter": "python",
   "pygments_lexer": "ipython3",
   "version": "3.11.7"
  }
 },
 "nbformat": 4,
 "nbformat_minor": 2
}
