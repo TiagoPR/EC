{
 "cells": [
  {
   "cell_type": "markdown",
   "metadata": {},
   "source": [
    "# TP2 - Exercício 2\n",
    "\n",
    "### Autores\n",
    "\n",
    "Afonso Ferreira - pg52669 \\\n",
    "Tiago Rodrigues - pg52705\n",
    "\n",
    "### Enunciado\n",
    "\n",
    "Uma das aplicações mais importantes do teorema chinês dos restos (CRT) em criptografia é a transformada NTT “Number Theoretic Transform”.  Esta transformada é uma componente importantes de “standards” PQC  como o Kyber e o Dilithium mas também de outros algoritmos submetidos ao concurso NIST PQC.  A transformação NTT tem várias opções e aquela que está apresentada no +Capítulo 4:  Problemas Difíceis  usa o CRT.\n",
    "Neste problema pretende-se uma implementação Sagemath  do NTT-CRT tal como é descrito nesse documento.\n",
    "\n",
    "\n",
    "### Number Theoretic Transform - CRT\n",
    "\n",
    "    Classe que representa a Transformada Numérica Teórica (NTT).\n",
    "\n",
    "    A classe NTT fornece métodos para realizar a NTT direta e inversa em polinómios.\n",
    "\n",
    "    Args:\n",
    "        n (int): O tamanho do polinómio. Deve ser um dos seguintes [32, 64, 128, 256, 512, 1024, 2048].\n",
    "        q (int, opcional): O valor do módulo. Se não fornecido, um valor adequado de q é escolhido com base nas regras da NTT.\n",
    "    \n",
    "    Raises:\n",
    "        ValueError: Se o valor de n não estiver entre os tamanhos permitidos.\n",
    "\n",
    "    Attributes:\n",
    "        n (int): O tamanho do polinómio.\n",
    "        q (int): O valor do módulo.\n",
    "        F (FiniteField): O campo finito usado para cálculos.\n",
    "        R (PolynomialRing): O anel de polinómios usado para cálculos.\n",
    "        xi (Element): A raiz primitiva da unidade.\n",
    "        base (list): A base do Teorema Chinês dos Restos (CRT).\n",
    "\n",
    "    Métodos:\n",
    "        ntt(f): Realiza a NTT direta no polinómio de entrada f.\n",
    "        ntt_inv(ff): Realiza a NTT inversa no polinómio de entrada ff.\n",
    "        random_pol(args): Gera um polinómio aleatório.\n",
    "\n",
    "O primeiro passo é a escolha de um $N$ da forma $2^d$  e um primo $q$ que  verifique $q \\equiv 1 \\bmod 2N$.\n",
    "O corpo $\\mathbb{F}_q$ contém todas as raízes do polinómio $\\phi \\equiv w^N + 1$.  Seja $\\xi$ uma qualquer destas raízes; então todas as raízes têm a forma $\\xi^{2,i+1}$ , com $;i=0,\\cdots,N-1$."
   ]
  },
  {
   "cell_type": "code",
   "execution_count": 3,
   "metadata": {
    "vscode": {
     "languageId": "python"
    }
   },
   "outputs": [],
   "source": [
    "from sage.all import *\n",
    "    \n",
    "class NTT(object):\n",
    "    # Construtor\n",
    "    # O primeiro passo é a escolha de um $N$ da forma $2^d$  e um primo $\\,q\\,$ que  verifique $\\,q \\equiv 1 \\bmod 2N\\,$.\n",
    "    def __init__(self, n=128, q=None):\n",
    "        if not  n in [32,64,128,256,512,1024,2048]:\n",
    "            raise ValueError(\"improper argument \",n)\n",
    "        self.n = n\n",
    "\n",
    "        # Se q não for fornecido, escolhe um valor de q de acordo com as regras do NTT\n",
    "        if not q:\n",
    "            self.q = 1 + 2*n\n",
    "            while True:\n",
    "                if (self.q).is_prime():\n",
    "                    break\n",
    "                self.q += 2*n\n",
    "        else:\n",
    "            # Se q for fornecido, verifica se satisfaz a condição NTT\n",
    "            if q % (2*n) != 1:\n",
    "                raise ValueError(\"Valor de 'q' não verifica a condição NTT\")\n",
    "            self.q = q\n",
    "            \n",
    "        # Define o campo finito e o anel de polinómios\n",
    "        self.F = GF(self.q) ;  self.R = PolynomialRing(self.F, name=\"w\")\n",
    "        w = (self.R).gen() # variável w do anel de polinómios R\n",
    "\n",
    "        # Calcula a raiz primitiva da unidade xi\n",
    "        g = (w**n + 1) # \n",
    "        xi = g.roots(multiplicities=False)[-1] # obtemos raíz primitiva da unidade xi\n",
    "        self.xi = xi\n",
    "        raizes = [xi**(2*i+1)  for i in range(n)] # obtemos as raízes de unidade xi^(2i+1)\n",
    "        self.base = crt_basis([(w - raiz) for raiz in raizes]) # construção da base do teorema chinês do resto\n",
    "        # E = crt_basis(X)\n",
    "        # X - lista de inteiros que são coprimos em pares\n",
    "        # E - lista de inteiros de tal modo que E[i] = 1 (mod X[i]) e E[i] = 0 (mod X[j]), sendo que j != i\n",
    "    \n",
    "    # Função que aplica a transformada NTT a um polinómio f\n",
    "    def ntt(self,f):\n",
    "        def _expand_(f):\n",
    "            u = f.list() # lista dos coeficientes do polinómio f\n",
    "            return u + [0]*(self.n-len(u)) # expande o polinómio f para o tamanho n\n",
    "        \n",
    "        def _ntt_(xi,N,f):\n",
    "            if N==1:\n",
    "                return f\n",
    "            N_ = N//2 ; #  N / 2 coeficientes \n",
    "            xi2 =  xi**2 # xi^2\n",
    "            f0 = [f[2*i]   for i in range(N_)] ; f1 = [f[2*i+1] for i in range(N_)] # divide f em f0 par e f1 ímpar (split)\n",
    "            ff0 = _ntt_(xi2,N_,f0) ; ff1 = _ntt_(xi2,N_,f1) # recursão\n",
    "    \n",
    "            s  = xi ; ff = [self.F(0) for _ in range(N)] # inicializa ff (transformada) com zeros (polinómio de tamanho N)\n",
    "            for i in range(N_):\n",
    "                a = ff0[i] ; b = s*ff1[i]  \n",
    "                ff[i] = a + b ; ff[i + N_] = a - b # calcula ff[i] e ff[i + N/2]\n",
    "                s = s * xi2 # atualiza s\n",
    "            return ff \n",
    "        \n",
    "        return _ntt_(self.xi,self.n,_expand_(f))\n",
    "        \n",
    "    def ntt_inv(self,ff):                              ## transformada inversa\n",
    "        return sum([ff[i]*self.base[i] for i in range(self.n)])\n",
    "    \n",
    "    def random_pol(self,args=None):\n",
    "        return (self.R).random_element(args)"
   ]
  },
  {
   "cell_type": "markdown",
   "metadata": {},
   "source": [
    "### Teste"
   ]
  },
  {
   "cell_type": "code",
   "execution_count": 4,
   "metadata": {
    "vscode": {
     "languageId": "python"
    }
   },
   "outputs": [
    {
     "name": "stdout",
     "output_type": "stream",
     "text": [
      "Correto ?  True\n"
     ]
    }
   ],
   "source": [
    "T = NTT(n=2048,q=343576577)\n",
    "\n",
    "# Temos o polinómio f\n",
    "f = T.random_pol(1023)\n",
    "\n",
    "# Aplicamos a transformada NTT a f\n",
    "ff = T.ntt(f)\n",
    "\n",
    "# Obtemos o polinómio f que é a transformada inversa de ff\n",
    "fff = T.ntt_inv(ff)\n",
    "\n",
    "# Verificamos se f e fff são iguais\n",
    "print(\"Correto ? \",f == fff)"
   ]
  }
 ],
 "metadata": {
  "kernelspec": {
   "display_name": "SageMath 10.0",
   "language": "sage",
   "name": "sagemath"
  },
  "language_info": {
   "codemirror_mode": {
    "name": "ipython",
    "version": 3
   },
   "file_extension": ".py",
   "mimetype": "text/x-python",
   "name": "sage",
   "nbconvert_exporter": "python",
   "pygments_lexer": "ipython3",
   "version": "3.11.7"
  }
 },
 "nbformat": 4,
 "nbformat_minor": 4
}
