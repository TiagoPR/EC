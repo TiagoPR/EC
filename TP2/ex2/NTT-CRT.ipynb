{
 "cells": [
  {
   "cell_type": "markdown",
   "metadata": {},
   "source": [
    "### Number Theoretic Transform - CRT\n",
    "\n",
    "\n",
    "O primeiro passo é a escolha de um $N$ da forma $2^d$  e um primo $\\,q\\,$ que  verifique $\\,q \\equiv 1 \\bmod 2N\\,$.\n",
    "\n",
    "o corpo $\\,\\mathbb{F}_q\\,$ contém todas as raízes do polinómio $\\,\\phi \\equiv w^N + 1$.  Seja $\\xi$ uma qualquer destas raízes; então todas as raízes têm a forma $\\,\\xi^{2\\,i+1}$ , com $\\;i=0,\\cdots,N-1$.\n"
   ]
  },
  {
   "cell_type": "code",
   "execution_count": 1,
   "metadata": {},
   "outputs": [],
   "source": [
    "class NTT(object):\n",
    "#    \n",
    "    def __init__(self, n=128, q=None):\n",
    "        if not  n in [32,64,128,256,512,1024,2048]:\n",
    "            raise ValueError(\"improper argument \",n)\n",
    "        self.n = n  \n",
    "        if not q:\n",
    "            self.q = 1 + 2*n\n",
    "            while True:\n",
    "                if (self.q).is_prime():\n",
    "                    break\n",
    "                self.q += 2*n\n",
    "        else:\n",
    "            if q % (2*n) != 1:\n",
    "                raise ValueError(\"Valor de 'q' não verifica a condição NTT\")\n",
    "            self.q = q\n",
    "             \n",
    "        self.F = GF(self.q) ;  self.R = PolynomialRing(self.F, name=\"w\")\n",
    "        w = (self.R).gen()\n",
    "        \n",
    "        g = (w^n + 1)\n",
    "        xi = g.roots(multiplicities=False)[-1]\n",
    "        self.xi = xi\n",
    "        rs = [xi^(2*i+1)  for i in range(n)] \n",
    "        self.base = crt_basis([(w - r) for r in rs])  \n",
    "    \n",
    "    \n",
    "    def ntt(self,f):\n",
    "        def _expand_(f): \n",
    "            u = f.list()\n",
    "            return u + [0]*(self.n-len(u)) \n",
    "        \n",
    "        def _ntt_(xi,N,f):\n",
    "            if N==1:\n",
    "                return f\n",
    "            N_ = N/2 ; xi2 =  xi^2  \n",
    "            f0 = [f[2*i]   for i in range(N_)] ; f1 = [f[2*i+1] for i in range(N_)] \n",
    "            ff0 = _ntt_(xi2,N_,f0) ; ff1 = _ntt_(xi2,N_,f1)  \n",
    "    \n",
    "            s  = xi ; ff = [self.F(0) for i in range(N)] \n",
    "            for i in range(N_):\n",
    "                a = ff0[i] ; b = s*ff1[i]  \n",
    "                ff[i] = a + b ; ff[i + N_] = a - b \n",
    "                s = s * xi2                     \n",
    "            return ff \n",
    "        \n",
    "        return _ntt_(self.xi,self.n,_expand_(f))\n",
    "        \n",
    "    def ntt_inv(self,ff):                              ## transformada inversa\n",
    "        return sum([ff[i]*self.base[i] for i in range(self.n)])\n",
    "    \n",
    "    def random_pol(self,args=None):\n",
    "        return (self.R).random_element(args)"
   ]
  },
  {
   "cell_type": "code",
   "execution_count": 2,
   "metadata": {},
   "outputs": [
    {
     "ename": "NameError",
     "evalue": "name 'GF' is not defined",
     "output_type": "error",
     "traceback": [
      "\u001b[0;31m---------------------------------------------------------------------------\u001b[0m",
      "\u001b[0;31mNameError\u001b[0m                                 Traceback (most recent call last)",
      "\u001b[1;32m/home/tiagopr/Universidade/MEI/CSI/EC/TP2/ex2/NTT-CRT.ipynb Cell 3\u001b[0m line \u001b[0;36m4\n\u001b[1;32m      <a href='vscode-notebook-cell:/home/tiagopr/Universidade/MEI/CSI/EC/TP2/ex2/NTT-CRT.ipynb#W2sZmlsZQ%3D%3D?line=0'>1</a>\u001b[0m \u001b[39m# Teste\u001b[39;00m\n\u001b[1;32m      <a href='vscode-notebook-cell:/home/tiagopr/Universidade/MEI/CSI/EC/TP2/ex2/NTT-CRT.ipynb#W2sZmlsZQ%3D%3D?line=1'>2</a>\u001b[0m \n\u001b[1;32m      <a href='vscode-notebook-cell:/home/tiagopr/Universidade/MEI/CSI/EC/TP2/ex2/NTT-CRT.ipynb#W2sZmlsZQ%3D%3D?line=2'>3</a>\u001b[0m \u001b[39m#T = NTT(n=1024)\u001b[39;00m\n\u001b[0;32m----> <a href='vscode-notebook-cell:/home/tiagopr/Universidade/MEI/CSI/EC/TP2/ex2/NTT-CRT.ipynb#W2sZmlsZQ%3D%3D?line=3'>4</a>\u001b[0m T \u001b[39m=\u001b[39m NTT(n\u001b[39m=\u001b[39;49m\u001b[39m2048\u001b[39;49m,q\u001b[39m=\u001b[39;49m\u001b[39m343576577\u001b[39;49m)\n\u001b[1;32m      <a href='vscode-notebook-cell:/home/tiagopr/Universidade/MEI/CSI/EC/TP2/ex2/NTT-CRT.ipynb#W2sZmlsZQ%3D%3D?line=5'>6</a>\u001b[0m f \u001b[39m=\u001b[39m T\u001b[39m.\u001b[39mrandom_pol(\u001b[39m1023\u001b[39m)\n\u001b[1;32m      <a href='vscode-notebook-cell:/home/tiagopr/Universidade/MEI/CSI/EC/TP2/ex2/NTT-CRT.ipynb#W2sZmlsZQ%3D%3D?line=6'>7</a>\u001b[0m \u001b[39m# print(f)\u001b[39;00m\n",
      "\u001b[1;32m/home/tiagopr/Universidade/MEI/CSI/EC/TP2/ex2/NTT-CRT.ipynb Cell 3\u001b[0m line \u001b[0;36m1\n\u001b[1;32m     <a href='vscode-notebook-cell:/home/tiagopr/Universidade/MEI/CSI/EC/TP2/ex2/NTT-CRT.ipynb#W2sZmlsZQ%3D%3D?line=14'>15</a>\u001b[0m         \u001b[39mraise\u001b[39;00m \u001b[39mValueError\u001b[39;00m(\u001b[39m\"\u001b[39m\u001b[39mValor de \u001b[39m\u001b[39m'\u001b[39m\u001b[39mq\u001b[39m\u001b[39m'\u001b[39m\u001b[39m não verifica a condição NTT\u001b[39m\u001b[39m\"\u001b[39m)\n\u001b[1;32m     <a href='vscode-notebook-cell:/home/tiagopr/Universidade/MEI/CSI/EC/TP2/ex2/NTT-CRT.ipynb#W2sZmlsZQ%3D%3D?line=15'>16</a>\u001b[0m     \u001b[39mself\u001b[39m\u001b[39m.\u001b[39mq \u001b[39m=\u001b[39m q\n\u001b[0;32m---> <a href='vscode-notebook-cell:/home/tiagopr/Universidade/MEI/CSI/EC/TP2/ex2/NTT-CRT.ipynb#W2sZmlsZQ%3D%3D?line=17'>18</a>\u001b[0m \u001b[39mself\u001b[39m\u001b[39m.\u001b[39mF \u001b[39m=\u001b[39m GF(\u001b[39mself\u001b[39m\u001b[39m.\u001b[39mq) ;  \u001b[39mself\u001b[39m\u001b[39m.\u001b[39mR \u001b[39m=\u001b[39m PolynomialRing(\u001b[39mself\u001b[39m\u001b[39m.\u001b[39mF, name\u001b[39m=\u001b[39m\u001b[39m\"\u001b[39m\u001b[39mw\u001b[39m\u001b[39m\"\u001b[39m)\n\u001b[1;32m     <a href='vscode-notebook-cell:/home/tiagopr/Universidade/MEI/CSI/EC/TP2/ex2/NTT-CRT.ipynb#W2sZmlsZQ%3D%3D?line=18'>19</a>\u001b[0m w \u001b[39m=\u001b[39m (\u001b[39mself\u001b[39m\u001b[39m.\u001b[39mR)\u001b[39m.\u001b[39mgen()\n\u001b[1;32m     <a href='vscode-notebook-cell:/home/tiagopr/Universidade/MEI/CSI/EC/TP2/ex2/NTT-CRT.ipynb#W2sZmlsZQ%3D%3D?line=20'>21</a>\u001b[0m g \u001b[39m=\u001b[39m (w\u001b[39m^\u001b[39mn \u001b[39m+\u001b[39m \u001b[39m1\u001b[39m)\n",
      "\u001b[0;31mNameError\u001b[0m: name 'GF' is not defined"
     ]
    }
   ],
   "source": [
    "# Teste\n",
    "\n",
    "#T = NTT(n=1024)\n",
    "T = NTT(n=2048,q=343576577)\n",
    "\n",
    "f = T.random_pol(1023)\n",
    "# print(f)\n",
    "\n",
    "ff = T.ntt(f)\n",
    "\n",
    "fff = T.ntt_inv(ff)\n",
    "\n",
    "# print(fff)\n",
    "print(\"Correto ? \",f == fff)"
   ]
  },
  {
   "cell_type": "code",
   "execution_count": null,
   "metadata": {},
   "outputs": [],
   "source": []
  }
 ],
 "metadata": {
  "kernelspec": {
   "display_name": ".ec",
   "language": "python",
   "name": "python3"
  },
  "language_info": {
   "codemirror_mode": {
    "name": "ipython",
    "version": 3
   },
   "file_extension": ".py",
   "mimetype": "text/x-python",
   "name": "python",
   "nbconvert_exporter": "python",
   "pygments_lexer": "ipython3",
   "version": "3.11.7"
  }
 },
 "nbformat": 4,
 "nbformat_minor": 4
}
